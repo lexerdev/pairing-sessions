{
  "cells": [
    {
      "cell_type": "markdown",
      "metadata": {
        "id": "oZjIXgkkR5x4"
      },
      "source": [
        "# Retail Segmentation Excercise\n",
        "\n",
        "**RFM** is a method used for analyzing customer value. It is commonly used in database marketing and direct marketing and has received particular attention in retail and professional services industries.\n",
        "\n",
        "RFM stands for the three dimensions:\n",
        "\n",
        "* **R**ecency – _How recently did the customer purchase?_\n",
        "* **F**requency – _How often do they purchase?_\n",
        "* **M**onetary Value – _How much do they spend?_"
      ]
    },
    {
      "cell_type": "code",
      "execution_count": null,
      "metadata": {
        "id": "FH3ZqNuwRmK0"
      },
      "outputs": [],
      "source": [
        "!wget -q https://github.com/lexerdev/pairing-sessions/raw/main/data/orders.csv\n",
        "!wget -q https://github.com/lexerdev/pairing-sessions/raw/main/data/customers.csv\n",
        "!wget -q https://github.com/lexerdev/pairing-sessions/raw/main/data/order_items.csv"
      ]
    },
    {
      "cell_type": "markdown",
      "metadata": {
        "id": "IgI57kqTYEh8"
      },
      "source": [
        "## Customer Data\n",
        "\n",
        "This is a Brazilian ecommerce public dataset of orders made at [Olist Store](http://www.olist.com/). The dataset has information of 100k orders from 2016 to 2018 made at multiple marketplaces in Brazil.\n",
        "\n",
        "Its features allows viewing an order from multiple dimensions: from **order status**, price, payment and freight performance to customer location, product attributes and finally reviews written by customers. We also released a geolocation dataset that relates Brazilian zip codes to lat/lng coordinates.\n",
        "\n",
        "This is real commercial data, it has been anonymised.\n",
        "\n",
        "**Entity Relationship Diagram**\n",
        "\n",
        "Below is an Entity Relationship Diagram of the available data:\n",
        "\n",
        "![ERD](https://github.com/lexerdev/pairing-sessions/raw/main/images/erd.png)\n",
        "\n",
        "\n",
        "**Data Dictionary**\n",
        "\n",
        "**customers**\n",
        "\n",
        "* `customer_id`:  Customer ID number\n",
        "* `customer_unique_id`: Unique ID of the Customer from resolution\n",
        "* `customer_zip_code_prefix`: Zip code of customer\n",
        "* `customer_city`: City of customer\n",
        "* `customer_state`: State of customer\n",
        "\n",
        "**orders**\n",
        "\n",
        "\n",
        "* `order_id`: Order ID number\n",
        "* `customer_id`:  Customer ID number\n",
        "* `order_status`: Status of order process\n",
        "* `order_purchase_timestamp`: Time of the product is ordered\n",
        "* `order_approved_at`: Time of payment for the order\n",
        "* `order_delivered_carrier_date`: Time of notifying the logistics in order process\n",
        "* `order_delivered_customer_date`: Time of the product arrived at the consumer\n",
        "* `order_estimated_delivery_date`: Estimated arrival time of the order\n",
        "\n",
        "**order_items**\n",
        "\n",
        "* `order_item_id`: The number of the product in the order (ex：If there are three items in the order, the order_item_id is 1, 2, 3)\n",
        "* `product_id`: Product ID number\n",
        "* `seller_id `: Seller ID number\n",
        "* `shipping_limit_date`: The deadline for the seller deliver the goods to the logistics\n",
        "* `price`: Product price\n",
        "* `freight_value`: delivery fee"
      ]
    },
    {
      "cell_type": "code",
      "execution_count": null,
      "metadata": {
        "id": "NWzyw3ROel0u"
      },
      "outputs": [],
      "source": [
        "import pandas as pd\n",
        "\n",
        "orders = pd.read_csv(\n",
        "    \"orders.csv\",\n",
        "    parse_dates=[\n",
        "        \"order_purchase_timestamp\",\n",
        "        \"order_approved_at\",\n",
        "        \"order_delivered_carrier_date\",\n",
        "        \"order_delivered_customer_date\",\n",
        "        \"order_estimated_delivery_date\",\n",
        "    ],\n",
        ")\n",
        "customers = pd.read_csv(\"customers.csv\")\n",
        "geolocation = pd.read_csv(\"geolocation.csv\")\n",
        "order_items = pd.read_csv(\"order_items.csv\")\n",
        "order_payments = pd.read_csv(\"order_payments.csv\")\n",
        "order_reviews = pd.read_csv(\n",
        "    \"order_reviews.csv\", parse_dates=[\"review_creation_date\", \"review_answer_timestamp\"]\n",
        ")\n",
        "products = pd.read_csv(\"products.csv\")\n",
        "sellers = pd.read_csv(\"sellers.csv\")"
      ]
    },
    {
      "cell_type": "code",
      "execution_count": null,
      "metadata": {
        "colab": {
          "base_uri": "https://localhost:8080/",
          "height": 241
        },
        "id": "wkGCWY-3nsie",
        "outputId": "a16847d7-23ef-4473-97d3-96533929b320"
      },
      "outputs": [
        {
          "data": {
            "text/html": [
              "<div>\n",
              "<style scoped>\n",
              "    .dataframe tbody tr th:only-of-type {\n",
              "        vertical-align: middle;\n",
              "    }\n",
              "\n",
              "    .dataframe tbody tr th {\n",
              "        vertical-align: top;\n",
              "    }\n",
              "\n",
              "    .dataframe thead th {\n",
              "        text-align: right;\n",
              "    }\n",
              "</style>\n",
              "<table border=\"1\" class=\"dataframe\">\n",
              "  <thead>\n",
              "    <tr style=\"text-align: right;\">\n",
              "      <th></th>\n",
              "      <th>customer_id</th>\n",
              "      <th>customer_unique_id</th>\n",
              "      <th>customer_zip_code_prefix</th>\n",
              "      <th>customer_city</th>\n",
              "      <th>customer_state</th>\n",
              "    </tr>\n",
              "  </thead>\n",
              "  <tbody>\n",
              "    <tr>\n",
              "      <th>0</th>\n",
              "      <td>06b8999e2fba1a1fbc88172c00ba8bc7</td>\n",
              "      <td>861eff4711a542e4b93843c6dd7febb0</td>\n",
              "      <td>14409</td>\n",
              "      <td>franca</td>\n",
              "      <td>SP</td>\n",
              "    </tr>\n",
              "    <tr>\n",
              "      <th>1</th>\n",
              "      <td>18955e83d337fd6b2def6b18a428ac77</td>\n",
              "      <td>290c77bc529b7ac935b93aa66c333dc3</td>\n",
              "      <td>9790</td>\n",
              "      <td>sao bernardo do campo</td>\n",
              "      <td>SP</td>\n",
              "    </tr>\n",
              "    <tr>\n",
              "      <th>2</th>\n",
              "      <td>4e7b3e00288586ebd08712fdd0374a03</td>\n",
              "      <td>060e732b5b29e8181a18229c7b0b2b5e</td>\n",
              "      <td>1151</td>\n",
              "      <td>sao paulo</td>\n",
              "      <td>SP</td>\n",
              "    </tr>\n",
              "    <tr>\n",
              "      <th>3</th>\n",
              "      <td>b2b6027bc5c5109e529d4dc6358b12c3</td>\n",
              "      <td>259dac757896d24d7702b9acbbff3f3c</td>\n",
              "      <td>8775</td>\n",
              "      <td>mogi das cruzes</td>\n",
              "      <td>SP</td>\n",
              "    </tr>\n",
              "    <tr>\n",
              "      <th>4</th>\n",
              "      <td>4f2d8ab171c80ec8364f7c12e35b23ad</td>\n",
              "      <td>345ecd01c38d18a9036ed96c73b8d066</td>\n",
              "      <td>13056</td>\n",
              "      <td>campinas</td>\n",
              "      <td>SP</td>\n",
              "    </tr>\n",
              "  </tbody>\n",
              "</table>\n",
              "</div>"
            ],
            "text/plain": [
              "                        customer_id  ... customer_state\n",
              "0  06b8999e2fba1a1fbc88172c00ba8bc7  ...             SP\n",
              "1  18955e83d337fd6b2def6b18a428ac77  ...             SP\n",
              "2  4e7b3e00288586ebd08712fdd0374a03  ...             SP\n",
              "3  b2b6027bc5c5109e529d4dc6358b12c3  ...             SP\n",
              "4  4f2d8ab171c80ec8364f7c12e35b23ad  ...             SP\n",
              "\n",
              "[5 rows x 5 columns]"
            ]
          },
          "execution_count": 22,
          "metadata": {},
          "output_type": "execute_result"
        }
      ],
      "source": [
        "customers.head()"
      ]
    },
    {
      "cell_type": "code",
      "execution_count": null,
      "metadata": {
        "colab": {
          "base_uri": "https://localhost:8080/",
          "height": 224
        },
        "id": "nt0MSSPje2Pl",
        "outputId": "8767c56f-a107-4a22-b7fc-a33238f0d9ee"
      },
      "outputs": [
        {
          "data": {
            "text/html": [
              "<div>\n",
              "<style scoped>\n",
              "    .dataframe tbody tr th:only-of-type {\n",
              "        vertical-align: middle;\n",
              "    }\n",
              "\n",
              "    .dataframe tbody tr th {\n",
              "        vertical-align: top;\n",
              "    }\n",
              "\n",
              "    .dataframe thead th {\n",
              "        text-align: right;\n",
              "    }\n",
              "</style>\n",
              "<table border=\"1\" class=\"dataframe\">\n",
              "  <thead>\n",
              "    <tr style=\"text-align: right;\">\n",
              "      <th></th>\n",
              "      <th>order_id</th>\n",
              "      <th>customer_id</th>\n",
              "      <th>order_status</th>\n",
              "      <th>order_purchase_timestamp</th>\n",
              "      <th>order_approved_at</th>\n",
              "      <th>order_delivered_carrier_date</th>\n",
              "      <th>order_delivered_customer_date</th>\n",
              "      <th>order_estimated_delivery_date</th>\n",
              "    </tr>\n",
              "  </thead>\n",
              "  <tbody>\n",
              "    <tr>\n",
              "      <th>0</th>\n",
              "      <td>e481f51cbdc54678b7cc49136f2d6af7</td>\n",
              "      <td>9ef432eb6251297304e76186b10a928d</td>\n",
              "      <td>delivered</td>\n",
              "      <td>2017-10-02 10:56:33</td>\n",
              "      <td>2017-10-02 11:07:15</td>\n",
              "      <td>2017-10-04 19:55:00</td>\n",
              "      <td>2017-10-10 21:25:13</td>\n",
              "      <td>2017-10-18</td>\n",
              "    </tr>\n",
              "    <tr>\n",
              "      <th>1</th>\n",
              "      <td>53cdb2fc8bc7dce0b6741e2150273451</td>\n",
              "      <td>b0830fb4747a6c6d20dea0b8c802d7ef</td>\n",
              "      <td>delivered</td>\n",
              "      <td>2018-07-24 20:41:37</td>\n",
              "      <td>2018-07-26 03:24:27</td>\n",
              "      <td>2018-07-26 14:31:00</td>\n",
              "      <td>2018-08-07 15:27:45</td>\n",
              "      <td>2018-08-13</td>\n",
              "    </tr>\n",
              "    <tr>\n",
              "      <th>2</th>\n",
              "      <td>47770eb9100c2d0c44946d9cf07ec65d</td>\n",
              "      <td>41ce2a54c0b03bf3443c3d931a367089</td>\n",
              "      <td>delivered</td>\n",
              "      <td>2018-08-08 08:38:49</td>\n",
              "      <td>2018-08-08 08:55:23</td>\n",
              "      <td>2018-08-08 13:50:00</td>\n",
              "      <td>2018-08-17 18:06:29</td>\n",
              "      <td>2018-09-04</td>\n",
              "    </tr>\n",
              "    <tr>\n",
              "      <th>3</th>\n",
              "      <td>949d5b44dbf5de918fe9c16f97b45f8a</td>\n",
              "      <td>f88197465ea7920adcdbec7375364d82</td>\n",
              "      <td>delivered</td>\n",
              "      <td>2017-11-18 19:28:06</td>\n",
              "      <td>2017-11-18 19:45:59</td>\n",
              "      <td>2017-11-22 13:39:59</td>\n",
              "      <td>2017-12-02 00:28:42</td>\n",
              "      <td>2017-12-15</td>\n",
              "    </tr>\n",
              "    <tr>\n",
              "      <th>4</th>\n",
              "      <td>ad21c59c0840e6cb83a9ceb5573f8159</td>\n",
              "      <td>8ab97904e6daea8866dbdbc4fb7aad2c</td>\n",
              "      <td>delivered</td>\n",
              "      <td>2018-02-13 21:18:39</td>\n",
              "      <td>2018-02-13 22:20:29</td>\n",
              "      <td>2018-02-14 19:46:34</td>\n",
              "      <td>2018-02-16 18:17:02</td>\n",
              "      <td>2018-02-26</td>\n",
              "    </tr>\n",
              "  </tbody>\n",
              "</table>\n",
              "</div>"
            ],
            "text/plain": [
              "                           order_id  ... order_estimated_delivery_date\n",
              "0  e481f51cbdc54678b7cc49136f2d6af7  ...                    2017-10-18\n",
              "1  53cdb2fc8bc7dce0b6741e2150273451  ...                    2018-08-13\n",
              "2  47770eb9100c2d0c44946d9cf07ec65d  ...                    2018-09-04\n",
              "3  949d5b44dbf5de918fe9c16f97b45f8a  ...                    2017-12-15\n",
              "4  ad21c59c0840e6cb83a9ceb5573f8159  ...                    2018-02-26\n",
              "\n",
              "[5 rows x 8 columns]"
            ]
          },
          "execution_count": 20,
          "metadata": {},
          "output_type": "execute_result"
        }
      ],
      "source": [
        "orders.head()"
      ]
    },
    {
      "cell_type": "code",
      "execution_count": null,
      "metadata": {
        "colab": {
          "base_uri": "https://localhost:8080/",
          "height": 224
        },
        "id": "cTx9FPMKnr5A",
        "outputId": "6cae5e63-d879-43c7-ec7b-de20584bb993"
      },
      "outputs": [
        {
          "data": {
            "text/html": [
              "<div>\n",
              "<style scoped>\n",
              "    .dataframe tbody tr th:only-of-type {\n",
              "        vertical-align: middle;\n",
              "    }\n",
              "\n",
              "    .dataframe tbody tr th {\n",
              "        vertical-align: top;\n",
              "    }\n",
              "\n",
              "    .dataframe thead th {\n",
              "        text-align: right;\n",
              "    }\n",
              "</style>\n",
              "<table border=\"1\" class=\"dataframe\">\n",
              "  <thead>\n",
              "    <tr style=\"text-align: right;\">\n",
              "      <th></th>\n",
              "      <th>order_id</th>\n",
              "      <th>order_item_id</th>\n",
              "      <th>product_id</th>\n",
              "      <th>seller_id</th>\n",
              "      <th>price</th>\n",
              "      <th>freight_value</th>\n",
              "    </tr>\n",
              "  </thead>\n",
              "  <tbody>\n",
              "    <tr>\n",
              "      <th>0</th>\n",
              "      <td>00010242fe8c5a6d1ba2dd792cb16214</td>\n",
              "      <td>1</td>\n",
              "      <td>4244733e06e7ecb4970a6e2683c13e61</td>\n",
              "      <td>48436dade18ac8b2bce089ec2a041202</td>\n",
              "      <td>58.90</td>\n",
              "      <td>13.29</td>\n",
              "    </tr>\n",
              "    <tr>\n",
              "      <th>1</th>\n",
              "      <td>00018f77f2f0320c557190d7a144bdd3</td>\n",
              "      <td>1</td>\n",
              "      <td>e5f2d52b802189ee658865ca93d83a8f</td>\n",
              "      <td>dd7ddc04e1b6c2c614352b383efe2d36</td>\n",
              "      <td>239.90</td>\n",
              "      <td>19.93</td>\n",
              "    </tr>\n",
              "    <tr>\n",
              "      <th>2</th>\n",
              "      <td>000229ec398224ef6ca0657da4fc703e</td>\n",
              "      <td>1</td>\n",
              "      <td>c777355d18b72b67abbeef9df44fd0fd</td>\n",
              "      <td>5b51032eddd242adc84c38acab88f23d</td>\n",
              "      <td>199.00</td>\n",
              "      <td>17.87</td>\n",
              "    </tr>\n",
              "    <tr>\n",
              "      <th>3</th>\n",
              "      <td>00024acbcdf0a6daa1e931b038114c75</td>\n",
              "      <td>1</td>\n",
              "      <td>7634da152a4610f1595efa32f14722fc</td>\n",
              "      <td>9d7a1d34a5052409006425275ba1c2b4</td>\n",
              "      <td>12.99</td>\n",
              "      <td>12.79</td>\n",
              "    </tr>\n",
              "    <tr>\n",
              "      <th>4</th>\n",
              "      <td>00042b26cf59d7ce69dfabb4e55b4fd9</td>\n",
              "      <td>1</td>\n",
              "      <td>ac6c3623068f30de03045865e4e10089</td>\n",
              "      <td>df560393f3a51e74553ab94004ba5c87</td>\n",
              "      <td>199.90</td>\n",
              "      <td>18.14</td>\n",
              "    </tr>\n",
              "  </tbody>\n",
              "</table>\n",
              "</div>"
            ],
            "text/plain": [
              "                           order_id  order_item_id  ...   price freight_value\n",
              "0  00010242fe8c5a6d1ba2dd792cb16214              1  ...   58.90         13.29\n",
              "1  00018f77f2f0320c557190d7a144bdd3              1  ...  239.90         19.93\n",
              "2  000229ec398224ef6ca0657da4fc703e              1  ...  199.00         17.87\n",
              "3  00024acbcdf0a6daa1e931b038114c75              1  ...   12.99         12.79\n",
              "4  00042b26cf59d7ce69dfabb4e55b4fd9              1  ...  199.90         18.14\n",
              "\n",
              "[5 rows x 6 columns]"
            ]
          },
          "execution_count": 23,
          "metadata": {},
          "output_type": "execute_result"
        }
      ],
      "source": [
        "order_items.head()"
      ]
    },
    {
      "cell_type": "code",
      "execution_count": null,
      "metadata": {
        "id": "ieqCyx9is_B6"
      },
      "outputs": [],
      "source": []
    },
    {
      "cell_type": "markdown",
      "metadata": {
        "id": "ZZB_xImcpo9y"
      },
      "source": [
        "## RFM Features\n",
        "\n",
        "\n",
        "Let's see if we can setup a feature table like this:\n",
        "\n",
        "| customer_unique_id               | recency | frequency | montetary |\n",
        "|----------------------------------|---------|-----------|-----------|\n",
        "| 9ef432eb6251297304e76186b10a928d | 7       | 0.8       | 6         |\n",
        "| ...                              | ...     | ...       | ...       |\n",
        "\n",
        "Where:\n",
        "* `recency` is the count of months since the customer made a purchase\n",
        "* `frequency` is the count of purchases of the customer in their activity period (e.g. 3 purchases / 2 months)\n",
        "* `monetary` is a discretisation of `total_spend` in ten buckets, using [pd.qcut](https://pandas.pydata.org/docs/reference/api/pandas.qcut.html) is suitable\n"
      ]
    },
    {
      "cell_type": "code",
      "execution_count": null,
      "metadata": {
        "id": "hY2FFC0nYBUX"
      },
      "outputs": [],
      "source": []
    }
  ],
  "metadata": {
    "colab": {
      "name": "DS Technical Interview - RFM.ipynb",
      "provenance": [],
      "toc_visible": true
    },
    "kernelspec": {
      "display_name": "Python 3",
      "name": "python3"
    },
    "language_info": {
      "name": "python"
    }
  },
  "nbformat": 4,
  "nbformat_minor": 0
}
