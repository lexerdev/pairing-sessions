{
  "nbformat": 4,
  "nbformat_minor": 0,
  "metadata": {
    "colab": {
      "name": "Data Engineering - Spark SQL.ipynb",
      "provenance": []
    },
    "kernelspec": {
      "display_name": "Python 3",
      "name": "python3"
    },
    "language_info": {
      "name": "python"
    }
  },
  "cells": [
    {
      "cell_type": "code",
      "metadata": {
        "id": "LndFXhWMJGjP"
      },
      "source": [
        "import os\n",
        "\n",
        "SPARK_VERSION = \"spark-3.2.0\"\n",
        "HADOOP_VERSION = \"hadoop2.7\"\n",
        "SPARK_FILE = f\"{SPARK_VERSION}-bin-{HADOOP_VERSION}.tgz\"\n",
        "\n",
        "os.environ[\"SPARK_DISTRO\"] = f\"https://archive.apache.org/dist/spark/{SPARK_VERSION}/{SPARK_FILE}\"\n",
        "os.environ[\"SPARK_HOME\"] = f\"/content/{SPARK_VERSION}-bin-{HADOOP_VERSION}\"\n",
        "os.environ[\"JAVA_HOME\"] = \"/usr/lib/jvm/java-8-openjdk-amd64\"\n",
        "os.environ[\"JAVA_DISTRO\"] = \"openjdk-8-jdk-headless\""
      ],
      "execution_count": 1,
      "outputs": []
    },
    {
      "cell_type": "code",
      "metadata": {
        "id": "mChpYXmGNIFa"
      },
      "source": [
        "# INSTALL SPARK\n",
        "\n",
        "!SPARK_VERSION=spark-3.2.0\n",
        "!HADOOP_VERSION=hadoop2.7\n",
        "!apt-get install $JAVA_DISTRO -qq > /dev/null\n",
        "!wget -q $SPARK_DISTRO\n",
        "!tar xf $SPARK_FILE\n",
        "!pip -q install -q findspark\n",
        "!pip -q install pyspark\n",
        "\n",
        "# GATHER DATA\n",
        "\n",
        "!wget -q https://github.com/lexerdev/pairing-sessions/raw/main/data/orders.csv\n",
        "!wget -q https://github.com/lexerdev/pairing-sessions/raw/main/data/customers.csv"
      ],
      "execution_count": 2,
      "outputs": []
    },
    {
      "cell_type": "code",
      "metadata": {
        "colab": {
          "base_uri": "https://localhost:8080/",
          "height": 35
        },
        "id": "4zSX8f1-N0Ij",
        "outputId": "9ba34e6e-f86d-417d-8e09-ca61995d19a3"
      },
      "source": [
        "import findspark\n",
        "findspark.init()\n",
        "findspark.find()"
      ],
      "execution_count": 3,
      "outputs": [
        {
          "output_type": "execute_result",
          "data": {
            "application/vnd.google.colaboratory.intrinsic+json": {
              "type": "string"
            },
            "text/plain": [
              "'/content/spark-3.2.0-bin-hadoop2.7'"
            ]
          },
          "metadata": {},
          "execution_count": 3
        }
      ]
    },
    {
      "cell_type": "code",
      "metadata": {
        "id": "mLwosb_0N5hk"
      },
      "source": [
        "from pyspark.sql import SparkSession\n",
        "\n",
        "spark = SparkSession.builder.appName(\"Spark Session\").getOrCreate()\n",
        "\n",
        "spark\n",
        "spark.conf.set(\"spark.sql.repl.eagerEval.enabled\", True)"
      ],
      "execution_count": 4,
      "outputs": []
    },
    {
      "cell_type": "markdown",
      "metadata": {
        "id": "SrleZSqrOEzh"
      },
      "source": [
        "## Customer Data\n",
        "\n",
        "This is a Brazilian ecommerce public dataset of orders made at [Olist Store](http://www.olist.com/). The dataset has information of 100k orders from 2016 to 2018 made at multiple marketplaces in Brazil.\n",
        "\n",
        "Its features allows viewing an order from multiple dimensions: from **order status**, price, payment and freight performance to customer location, product attributes and finally reviews written by customers. We also released a geolocation dataset that relates Brazilian zip codes to lat/lng coordinates.\n",
        "\n",
        "This is real commercial data, it has been anonymised.\n",
        "\n",
        "**Entity Relationship Diagram**\n",
        "\n",
        "Below is an Entity Relationship Diagram of the available data:\n",
        "\n",
        "![ERD](https://github.com/lexerdev/pairing-sessions/raw/main/images/erd.png)\n",
        "\n",
        "\n",
        "**Data Dictionary**\n",
        "\n",
        "**customers**\n",
        "\n",
        "* `customer_id`:  Customer ID number\n",
        "* `customer_unique_id`: Unique ID of the Customer from resolution\n",
        "* `customer_zip_code_prefix`: Zip code of customer\n",
        "* `customer_city`: City of customer\n",
        "* `customer_state`: State of customer\n",
        "\n",
        "**orders**\n",
        "\n",
        "\n",
        "* `order_id`: Order ID number\n",
        "* `customer_id`:  Customer ID number\n",
        "* `order_status`: Status of order process\n",
        "* `order_purchase_timestamp`: Time of the product is ordered\n",
        "* `order_approved_at`: Time of payment for the order\n",
        "* `order_delivered_carrier_date`: Time of notifying the logistics in order process\n",
        "* `order_delivered_customer_date`: Time of the product arrived at the consumer\n",
        "* `order_estimated_delivery_date`: Estimated arrival time of the order\n",
        "\n",
        "**order_items**\n",
        "\n",
        "* `order_item_id`: The number of the product in the order (ex：If there are three items in the order, the order_item_id is 1, 2, 3)\n",
        "* `product_id`: Product ID number\n",
        "* `seller_id `: Seller ID number\n",
        "* `shipping_limit_date`: The deadline for the seller deliver the goods to the logistics\n",
        "* `price`: Product price\n",
        "* `freight_value`: delivery fee"
      ]
    },
    {
      "cell_type": "code",
      "metadata": {
        "id": "j74BVj9SN-bM"
      },
      "source": [
        "orders = spark.read.csv('/content/orders.csv', header=True, inferSchema=True)\n",
        "orders.createOrReplaceTempView('orders')\n",
        "\n",
        "customers = spark.read.csv('/content/customers.csv', header=True, inferSchema=True)\n",
        "customers.createOrReplaceTempView('customers')"
      ],
      "execution_count": 5,
      "outputs": []
    },
    {
      "cell_type": "code",
      "metadata": {
        "colab": {
          "base_uri": "https://localhost:8080/",
          "height": 521
        },
        "id": "HTI1OopTOU16",
        "outputId": "ed631d2a-d795-45bf-fe9d-2adcd809a17e"
      },
      "source": [
        "spark.sql(\n",
        "    '''\n",
        "    select *\n",
        "    from orders\n",
        "    '''\n",
        ")"
      ],
      "execution_count": 6,
      "outputs": [
        {
          "output_type": "execute_result",
          "data": {
            "text/html": [
              "<table border='1'>\n",
              "<tr><th>order_id</th><th>customer_id</th><th>order_status</th><th>order_purchase_timestamp</th><th>order_approved_at</th><th>order_delivered_carrier_date</th><th>order_delivered_customer_date</th><th>order_estimated_delivery_date</th></tr>\n",
              "<tr><td>e481f51cbdc54678b...</td><td>9ef432eb625129730...</td><td>delivered</td><td>2017-10-02 10:56:33</td><td>2017-10-02 11:07:15</td><td>2017-10-04 19:55:00</td><td>2017-10-10 21:25:13</td><td>2017-10-18 00:00:00</td></tr>\n",
              "<tr><td>53cdb2fc8bc7dce0b...</td><td>b0830fb4747a6c6d2...</td><td>delivered</td><td>2018-07-24 20:41:37</td><td>2018-07-26 03:24:27</td><td>2018-07-26 14:31:00</td><td>2018-08-07 15:27:45</td><td>2018-08-13 00:00:00</td></tr>\n",
              "<tr><td>47770eb9100c2d0c4...</td><td>41ce2a54c0b03bf34...</td><td>delivered</td><td>2018-08-08 08:38:49</td><td>2018-08-08 08:55:23</td><td>2018-08-08 13:50:00</td><td>2018-08-17 18:06:29</td><td>2018-09-04 00:00:00</td></tr>\n",
              "<tr><td>949d5b44dbf5de918...</td><td>f88197465ea7920ad...</td><td>delivered</td><td>2017-11-18 19:28:06</td><td>2017-11-18 19:45:59</td><td>2017-11-22 13:39:59</td><td>2017-12-02 00:28:42</td><td>2017-12-15 00:00:00</td></tr>\n",
              "<tr><td>ad21c59c0840e6cb8...</td><td>8ab97904e6daea886...</td><td>delivered</td><td>2018-02-13 21:18:39</td><td>2018-02-13 22:20:29</td><td>2018-02-14 19:46:34</td><td>2018-02-16 18:17:02</td><td>2018-02-26 00:00:00</td></tr>\n",
              "<tr><td>a4591c265e18cb1dc...</td><td>503740e9ca751ccdd...</td><td>delivered</td><td>2017-07-09 21:57:05</td><td>2017-07-09 22:10:13</td><td>2017-07-11 14:58:04</td><td>2017-07-26 10:57:55</td><td>2017-08-01 00:00:00</td></tr>\n",
              "<tr><td>136cce7faa42fdb2c...</td><td>ed0271e0b7da060a3...</td><td>invoiced</td><td>2017-04-11 12:22:08</td><td>2017-04-13 13:25:17</td><td>null</td><td>null</td><td>2017-05-09 00:00:00</td></tr>\n",
              "<tr><td>6514b8ad8028c9f2c...</td><td>9bdf08b4b3b52b552...</td><td>delivered</td><td>2017-05-16 13:10:30</td><td>2017-05-16 13:22:11</td><td>2017-05-22 10:07:46</td><td>2017-05-26 12:55:51</td><td>2017-06-07 00:00:00</td></tr>\n",
              "<tr><td>76c6e866289321a7c...</td><td>f54a9f0e6b351c431...</td><td>delivered</td><td>2017-01-23 18:29:09</td><td>2017-01-25 02:50:47</td><td>2017-01-26 14:16:31</td><td>2017-02-02 14:08:10</td><td>2017-03-06 00:00:00</td></tr>\n",
              "<tr><td>e69bfb5eb88e0ed6a...</td><td>31ad1d1b63eb99624...</td><td>delivered</td><td>2017-07-29 11:55:02</td><td>2017-07-29 12:05:32</td><td>2017-08-10 19:45:24</td><td>2017-08-16 17:14:30</td><td>2017-08-23 00:00:00</td></tr>\n",
              "<tr><td>e6ce16cb79ec1d90b...</td><td>494dded5b201313c6...</td><td>delivered</td><td>2017-05-16 19:41:10</td><td>2017-05-16 19:50:18</td><td>2017-05-18 11:40:40</td><td>2017-05-29 11:18:31</td><td>2017-06-07 00:00:00</td></tr>\n",
              "<tr><td>34513ce0c4fab462a...</td><td>7711cf624183d843a...</td><td>delivered</td><td>2017-07-13 19:58:11</td><td>2017-07-13 20:10:08</td><td>2017-07-14 18:43:29</td><td>2017-07-19 14:04:48</td><td>2017-08-08 00:00:00</td></tr>\n",
              "<tr><td>82566a660a982b15f...</td><td>d3e3b74c766bc6214...</td><td>delivered</td><td>2018-06-07 10:06:19</td><td>2018-06-09 03:13:12</td><td>2018-06-11 13:29:00</td><td>2018-06-19 12:05:52</td><td>2018-07-18 00:00:00</td></tr>\n",
              "<tr><td>5ff96c15d0b717ac6...</td><td>19402a48fe860416a...</td><td>delivered</td><td>2018-07-25 17:44:10</td><td>2018-07-25 17:55:14</td><td>2018-07-26 13:16:00</td><td>2018-07-30 15:52:25</td><td>2018-08-08 00:00:00</td></tr>\n",
              "<tr><td>432aaf21d85167c2c...</td><td>3df704f53d3f1d481...</td><td>delivered</td><td>2018-03-01 14:14:28</td><td>2018-03-01 15:10:47</td><td>2018-03-02 21:09:20</td><td>2018-03-12 23:36:26</td><td>2018-03-21 00:00:00</td></tr>\n",
              "<tr><td>dcb36b511fcac050b...</td><td>3b6828a50ffe54694...</td><td>delivered</td><td>2018-06-07 19:03:12</td><td>2018-06-12 23:31:02</td><td>2018-06-11 14:54:00</td><td>2018-06-21 15:34:32</td><td>2018-07-04 00:00:00</td></tr>\n",
              "<tr><td>403b97836b0c04a62...</td><td>738b086814c6fcc74...</td><td>delivered</td><td>2018-01-02 19:00:43</td><td>2018-01-02 19:09:04</td><td>2018-01-03 18:19:09</td><td>2018-01-20 01:38:59</td><td>2018-02-06 00:00:00</td></tr>\n",
              "<tr><td>116f0b09343b49556...</td><td>3187789bec9909876...</td><td>delivered</td><td>2017-12-26 23:41:31</td><td>2017-12-26 23:50:22</td><td>2017-12-28 18:33:05</td><td>2018-01-08 22:36:36</td><td>2018-01-29 00:00:00</td></tr>\n",
              "<tr><td>85ce859fd6dc634de...</td><td>059f7fc5719c7da6c...</td><td>delivered</td><td>2017-11-21 00:03:41</td><td>2017-11-21 00:14:22</td><td>2017-11-23 21:32:26</td><td>2017-11-27 18:28:00</td><td>2017-12-11 00:00:00</td></tr>\n",
              "<tr><td>83018ec114eee8641...</td><td>7f8c8b9c2ae27bf33...</td><td>delivered</td><td>2017-10-26 15:54:26</td><td>2017-10-26 16:08:14</td><td>2017-10-26 21:46:53</td><td>2017-11-08 22:22:00</td><td>2017-11-23 00:00:00</td></tr>\n",
              "</table>\n",
              "only showing top 20 rows\n"
            ],
            "text/plain": [
              "+--------------------+--------------------+------------+------------------------+-------------------+----------------------------+-----------------------------+-----------------------------+\n",
              "|            order_id|         customer_id|order_status|order_purchase_timestamp|  order_approved_at|order_delivered_carrier_date|order_delivered_customer_date|order_estimated_delivery_date|\n",
              "+--------------------+--------------------+------------+------------------------+-------------------+----------------------------+-----------------------------+-----------------------------+\n",
              "|e481f51cbdc54678b...|9ef432eb625129730...|   delivered|     2017-10-02 10:56:33|2017-10-02 11:07:15|         2017-10-04 19:55:00|          2017-10-10 21:25:13|          2017-10-18 00:00:00|\n",
              "|53cdb2fc8bc7dce0b...|b0830fb4747a6c6d2...|   delivered|     2018-07-24 20:41:37|2018-07-26 03:24:27|         2018-07-26 14:31:00|          2018-08-07 15:27:45|          2018-08-13 00:00:00|\n",
              "|47770eb9100c2d0c4...|41ce2a54c0b03bf34...|   delivered|     2018-08-08 08:38:49|2018-08-08 08:55:23|         2018-08-08 13:50:00|          2018-08-17 18:06:29|          2018-09-04 00:00:00|\n",
              "|949d5b44dbf5de918...|f88197465ea7920ad...|   delivered|     2017-11-18 19:28:06|2017-11-18 19:45:59|         2017-11-22 13:39:59|          2017-12-02 00:28:42|          2017-12-15 00:00:00|\n",
              "|ad21c59c0840e6cb8...|8ab97904e6daea886...|   delivered|     2018-02-13 21:18:39|2018-02-13 22:20:29|         2018-02-14 19:46:34|          2018-02-16 18:17:02|          2018-02-26 00:00:00|\n",
              "|a4591c265e18cb1dc...|503740e9ca751ccdd...|   delivered|     2017-07-09 21:57:05|2017-07-09 22:10:13|         2017-07-11 14:58:04|          2017-07-26 10:57:55|          2017-08-01 00:00:00|\n",
              "|136cce7faa42fdb2c...|ed0271e0b7da060a3...|    invoiced|     2017-04-11 12:22:08|2017-04-13 13:25:17|                        null|                         null|          2017-05-09 00:00:00|\n",
              "|6514b8ad8028c9f2c...|9bdf08b4b3b52b552...|   delivered|     2017-05-16 13:10:30|2017-05-16 13:22:11|         2017-05-22 10:07:46|          2017-05-26 12:55:51|          2017-06-07 00:00:00|\n",
              "|76c6e866289321a7c...|f54a9f0e6b351c431...|   delivered|     2017-01-23 18:29:09|2017-01-25 02:50:47|         2017-01-26 14:16:31|          2017-02-02 14:08:10|          2017-03-06 00:00:00|\n",
              "|e69bfb5eb88e0ed6a...|31ad1d1b63eb99624...|   delivered|     2017-07-29 11:55:02|2017-07-29 12:05:32|         2017-08-10 19:45:24|          2017-08-16 17:14:30|          2017-08-23 00:00:00|\n",
              "|e6ce16cb79ec1d90b...|494dded5b201313c6...|   delivered|     2017-05-16 19:41:10|2017-05-16 19:50:18|         2017-05-18 11:40:40|          2017-05-29 11:18:31|          2017-06-07 00:00:00|\n",
              "|34513ce0c4fab462a...|7711cf624183d843a...|   delivered|     2017-07-13 19:58:11|2017-07-13 20:10:08|         2017-07-14 18:43:29|          2017-07-19 14:04:48|          2017-08-08 00:00:00|\n",
              "|82566a660a982b15f...|d3e3b74c766bc6214...|   delivered|     2018-06-07 10:06:19|2018-06-09 03:13:12|         2018-06-11 13:29:00|          2018-06-19 12:05:52|          2018-07-18 00:00:00|\n",
              "|5ff96c15d0b717ac6...|19402a48fe860416a...|   delivered|     2018-07-25 17:44:10|2018-07-25 17:55:14|         2018-07-26 13:16:00|          2018-07-30 15:52:25|          2018-08-08 00:00:00|\n",
              "|432aaf21d85167c2c...|3df704f53d3f1d481...|   delivered|     2018-03-01 14:14:28|2018-03-01 15:10:47|         2018-03-02 21:09:20|          2018-03-12 23:36:26|          2018-03-21 00:00:00|\n",
              "|dcb36b511fcac050b...|3b6828a50ffe54694...|   delivered|     2018-06-07 19:03:12|2018-06-12 23:31:02|         2018-06-11 14:54:00|          2018-06-21 15:34:32|          2018-07-04 00:00:00|\n",
              "|403b97836b0c04a62...|738b086814c6fcc74...|   delivered|     2018-01-02 19:00:43|2018-01-02 19:09:04|         2018-01-03 18:19:09|          2018-01-20 01:38:59|          2018-02-06 00:00:00|\n",
              "|116f0b09343b49556...|3187789bec9909876...|   delivered|     2017-12-26 23:41:31|2017-12-26 23:50:22|         2017-12-28 18:33:05|          2018-01-08 22:36:36|          2018-01-29 00:00:00|\n",
              "|85ce859fd6dc634de...|059f7fc5719c7da6c...|   delivered|     2017-11-21 00:03:41|2017-11-21 00:14:22|         2017-11-23 21:32:26|          2017-11-27 18:28:00|          2017-12-11 00:00:00|\n",
              "|83018ec114eee8641...|7f8c8b9c2ae27bf33...|   delivered|     2017-10-26 15:54:26|2017-10-26 16:08:14|         2017-10-26 21:46:53|          2017-11-08 22:22:00|          2017-11-23 00:00:00|\n",
              "+--------------------+--------------------+------------+------------------------+-------------------+----------------------------+-----------------------------+-----------------------------+\n",
              "only showing top 20 rows"
            ]
          },
          "metadata": {},
          "execution_count": 6
        }
      ]
    },
    {
      "cell_type": "code",
      "metadata": {
        "colab": {
          "base_uri": "https://localhost:8080/",
          "height": 521
        },
        "id": "O6tZ-OruQEZ4",
        "outputId": "7a6a59bb-3ba6-42d1-8199-4ce439ea2cfd"
      },
      "source": [
        "spark.sql(\n",
        "    '''\n",
        "    select *\n",
        "    from customers\n",
        "    '''\n",
        ")"
      ],
      "execution_count": 7,
      "outputs": [
        {
          "output_type": "execute_result",
          "data": {
            "text/html": [
              "<table border='1'>\n",
              "<tr><th>customer_id</th><th>customer_unique_id</th><th>customer_zip_code_prefix</th><th>customer_city</th><th>customer_state</th></tr>\n",
              "<tr><td>06b8999e2fba1a1fb...</td><td>861eff4711a542e4b...</td><td>14409</td><td>franca</td><td>SP</td></tr>\n",
              "<tr><td>18955e83d337fd6b2...</td><td>290c77bc529b7ac93...</td><td>9790</td><td>sao bernardo do c...</td><td>SP</td></tr>\n",
              "<tr><td>4e7b3e00288586ebd...</td><td>060e732b5b29e8181...</td><td>1151</td><td>sao paulo</td><td>SP</td></tr>\n",
              "<tr><td>b2b6027bc5c5109e5...</td><td>259dac757896d24d7...</td><td>8775</td><td>mogi das cruzes</td><td>SP</td></tr>\n",
              "<tr><td>4f2d8ab171c80ec83...</td><td>345ecd01c38d18a90...</td><td>13056</td><td>campinas</td><td>SP</td></tr>\n",
              "<tr><td>879864dab9bc30475...</td><td>4c93744516667ad3b...</td><td>89254</td><td>jaragua do sul</td><td>SC</td></tr>\n",
              "<tr><td>fd826e7cf63160e53...</td><td>addec96d2e059c80c...</td><td>4534</td><td>sao paulo</td><td>SP</td></tr>\n",
              "<tr><td>5e274e7a0c3809e14...</td><td>57b2a98a409812fe9...</td><td>35182</td><td>timoteo</td><td>MG</td></tr>\n",
              "<tr><td>5adf08e34b2e99398...</td><td>1175e95fb47ddff9d...</td><td>81560</td><td>curitiba</td><td>PR</td></tr>\n",
              "<tr><td>4b7139f34592b3a31...</td><td>9afe194fb833f79e3...</td><td>30575</td><td>belo horizonte</td><td>MG</td></tr>\n",
              "<tr><td>9fb35e4ed6f0a14a4...</td><td>2a7745e1ed516b289...</td><td>39400</td><td>montes claros</td><td>MG</td></tr>\n",
              "<tr><td>5aa9e4fdd4dfd2095...</td><td>2a46fb94aef5cbeeb...</td><td>20231</td><td>rio de janeiro</td><td>RJ</td></tr>\n",
              "<tr><td>b2d1536598b73a9ab...</td><td>918dc87cd72cd9f6e...</td><td>18682</td><td>lencois paulista</td><td>SP</td></tr>\n",
              "<tr><td>eabebad39a88bb6f5...</td><td>295c05e81917928d7...</td><td>5704</td><td>sao paulo</td><td>SP</td></tr>\n",
              "<tr><td>1f1c7bf1c9b041b29...</td><td>3151a81801c838636...</td><td>95110</td><td>caxias do sul</td><td>RS</td></tr>\n",
              "<tr><td>206f3129c0e4d7d0b...</td><td>21f748a16f4e1688a...</td><td>13412</td><td>piracicaba</td><td>SP</td></tr>\n",
              "<tr><td>a7c125a0a07b75146...</td><td>5c2991dbd08bbf3cf...</td><td>22750</td><td>rio de janeiro</td><td>RJ</td></tr>\n",
              "<tr><td>c5c61596a3b6bd0ce...</td><td>b6e99561fe6f34a55...</td><td>7124</td><td>guarulhos</td><td>SP</td></tr>\n",
              "<tr><td>9b8ce803689b3562d...</td><td>7f3a72e8f988c6e73...</td><td>5416</td><td>sao paulo</td><td>SP</td></tr>\n",
              "<tr><td>49d0ea0986edde72d...</td><td>3e6fd6b2f0d499456...</td><td>68485</td><td>pacaja</td><td>PA</td></tr>\n",
              "</table>\n",
              "only showing top 20 rows\n"
            ],
            "text/plain": [
              "+--------------------+--------------------+------------------------+--------------------+--------------+\n",
              "|         customer_id|  customer_unique_id|customer_zip_code_prefix|       customer_city|customer_state|\n",
              "+--------------------+--------------------+------------------------+--------------------+--------------+\n",
              "|06b8999e2fba1a1fb...|861eff4711a542e4b...|                   14409|              franca|            SP|\n",
              "|18955e83d337fd6b2...|290c77bc529b7ac93...|                    9790|sao bernardo do c...|            SP|\n",
              "|4e7b3e00288586ebd...|060e732b5b29e8181...|                    1151|           sao paulo|            SP|\n",
              "|b2b6027bc5c5109e5...|259dac757896d24d7...|                    8775|     mogi das cruzes|            SP|\n",
              "|4f2d8ab171c80ec83...|345ecd01c38d18a90...|                   13056|            campinas|            SP|\n",
              "|879864dab9bc30475...|4c93744516667ad3b...|                   89254|      jaragua do sul|            SC|\n",
              "|fd826e7cf63160e53...|addec96d2e059c80c...|                    4534|           sao paulo|            SP|\n",
              "|5e274e7a0c3809e14...|57b2a98a409812fe9...|                   35182|             timoteo|            MG|\n",
              "|5adf08e34b2e99398...|1175e95fb47ddff9d...|                   81560|            curitiba|            PR|\n",
              "|4b7139f34592b3a31...|9afe194fb833f79e3...|                   30575|      belo horizonte|            MG|\n",
              "|9fb35e4ed6f0a14a4...|2a7745e1ed516b289...|                   39400|       montes claros|            MG|\n",
              "|5aa9e4fdd4dfd2095...|2a46fb94aef5cbeeb...|                   20231|      rio de janeiro|            RJ|\n",
              "|b2d1536598b73a9ab...|918dc87cd72cd9f6e...|                   18682|    lencois paulista|            SP|\n",
              "|eabebad39a88bb6f5...|295c05e81917928d7...|                    5704|           sao paulo|            SP|\n",
              "|1f1c7bf1c9b041b29...|3151a81801c838636...|                   95110|       caxias do sul|            RS|\n",
              "|206f3129c0e4d7d0b...|21f748a16f4e1688a...|                   13412|          piracicaba|            SP|\n",
              "|a7c125a0a07b75146...|5c2991dbd08bbf3cf...|                   22750|      rio de janeiro|            RJ|\n",
              "|c5c61596a3b6bd0ce...|b6e99561fe6f34a55...|                    7124|           guarulhos|            SP|\n",
              "|9b8ce803689b3562d...|7f3a72e8f988c6e73...|                    5416|           sao paulo|            SP|\n",
              "|49d0ea0986edde72d...|3e6fd6b2f0d499456...|                   68485|              pacaja|            PA|\n",
              "+--------------------+--------------------+------------------------+--------------------+--------------+\n",
              "only showing top 20 rows"
            ]
          },
          "metadata": {},
          "execution_count": 7
        }
      ]
    },
    {
      "cell_type": "markdown",
      "metadata": {
        "id": "m-y_ty4qqgfx"
      },
      "source": [
        "## Questions"
      ]
    },
    {
      "cell_type": "code",
      "metadata": {
        "id": "o06SFGPfqela"
      },
      "source": [
        ""
      ],
      "execution_count": null,
      "outputs": []
    }
  ]
}