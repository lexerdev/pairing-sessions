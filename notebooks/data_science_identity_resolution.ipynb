{
  "cells": [
    {
      "cell_type": "code",
      "execution_count": 1,
      "metadata": {
        "colab": {
          "base_uri": "https://localhost:8080/"
        },
        "id": "aTXIeohxqNe6",
        "outputId": "9e2f20d6-f3a9-4090-86ee-3a76e98c4d1f"
      },
      "outputs": [
        {
          "name": "stdout",
          "output_type": "stream",
          "text": [
            "Looking in indexes: https://pypi.org/simple, https://us-python.pkg.dev/colab-wheels/public/simple/\n",
            "Collecting pyspark\n",
            "  Downloading pyspark-3.3.0.tar.gz (281.3 MB)\n",
            "\u001b[K     |████████████████████████████████| 281.3 MB 46 kB/s \n",
            "\u001b[?25hRequirement already satisfied: networkx in /usr/local/lib/python3.7/dist-packages (2.6.3)\n",
            "Collecting nx_altair\n",
            "  Downloading nx_altair-0.1.6-py3-none-any.whl (7.9 kB)\n",
            "Collecting py4j==0.10.9.5\n",
            "  Downloading py4j-0.10.9.5-py2.py3-none-any.whl (199 kB)\n",
            "\u001b[K     |████████████████████████████████| 199 kB 43.8 MB/s \n",
            "\u001b[?25hRequirement already satisfied: pandas in /usr/local/lib/python3.7/dist-packages (from nx_altair) (1.3.5)\n",
            "Requirement already satisfied: altair in /usr/local/lib/python3.7/dist-packages (from nx_altair) (4.2.0)\n",
            "Requirement already satisfied: numpy in /usr/local/lib/python3.7/dist-packages (from altair->nx_altair) (1.21.6)\n",
            "Requirement already satisfied: toolz in /usr/local/lib/python3.7/dist-packages (from altair->nx_altair) (0.11.2)\n",
            "Requirement already satisfied: jsonschema>=3.0 in /usr/local/lib/python3.7/dist-packages (from altair->nx_altair) (4.3.3)\n",
            "Requirement already satisfied: entrypoints in /usr/local/lib/python3.7/dist-packages (from altair->nx_altair) (0.4)\n",
            "Requirement already satisfied: jinja2 in /usr/local/lib/python3.7/dist-packages (from altair->nx_altair) (2.11.3)\n",
            "Requirement already satisfied: importlib-metadata in /usr/local/lib/python3.7/dist-packages (from jsonschema>=3.0->altair->nx_altair) (4.11.4)\n",
            "Requirement already satisfied: typing-extensions in /usr/local/lib/python3.7/dist-packages (from jsonschema>=3.0->altair->nx_altair) (4.1.1)\n",
            "Requirement already satisfied: attrs>=17.4.0 in /usr/local/lib/python3.7/dist-packages (from jsonschema>=3.0->altair->nx_altair) (21.4.0)\n",
            "Requirement already satisfied: importlib-resources>=1.4.0 in /usr/local/lib/python3.7/dist-packages (from jsonschema>=3.0->altair->nx_altair) (5.7.1)\n",
            "Requirement already satisfied: pyrsistent!=0.17.0,!=0.17.1,!=0.17.2,>=0.14.0 in /usr/local/lib/python3.7/dist-packages (from jsonschema>=3.0->altair->nx_altair) (0.18.1)\n",
            "Requirement already satisfied: zipp>=3.1.0 in /usr/local/lib/python3.7/dist-packages (from importlib-resources>=1.4.0->jsonschema>=3.0->altair->nx_altair) (3.8.0)\n",
            "Requirement already satisfied: python-dateutil>=2.7.3 in /usr/local/lib/python3.7/dist-packages (from pandas->nx_altair) (2.8.2)\n",
            "Requirement already satisfied: pytz>=2017.3 in /usr/local/lib/python3.7/dist-packages (from pandas->nx_altair) (2022.1)\n",
            "Requirement already satisfied: six>=1.5 in /usr/local/lib/python3.7/dist-packages (from python-dateutil>=2.7.3->pandas->nx_altair) (1.15.0)\n",
            "Requirement already satisfied: MarkupSafe>=0.23 in /usr/local/lib/python3.7/dist-packages (from jinja2->altair->nx_altair) (2.0.1)\n",
            "Building wheels for collected packages: pyspark\n",
            "  Building wheel for pyspark (setup.py) ... \u001b[?25l\u001b[?25hdone\n",
            "  Created wheel for pyspark: filename=pyspark-3.3.0-py2.py3-none-any.whl size=281764026 sha256=baedaa8184245c267f414552b0c326783606f4b8554ed38cb1cd82dd2a92f5c4\n",
            "  Stored in directory: /root/.cache/pip/wheels/7a/8e/1b/f73a52650d2e5f337708d9f6a1750d451a7349a867f928b885\n",
            "Successfully built pyspark\n",
            "Installing collected packages: py4j, pyspark, nx-altair\n",
            "Successfully installed nx-altair-0.1.6 py4j-0.10.9.5 pyspark-3.3.0\n"
          ]
        }
      ],
      "source": [
        "# Setup Spark and Graph Libraries\n",
        "!pip install -q pyspark networkx nx_altair"
      ]
    },
    {
      "cell_type": "code",
      "execution_count": 2,
      "metadata": {
        "colab": {
          "base_uri": "https://localhost:8080/",
          "height": 216
        },
        "id": "NsJHl2WKqJIh",
        "outputId": "dfb9e04f-c431-490e-d7cc-47cb036c9711"
      },
      "outputs": [
        {
          "data": {
            "text/html": [
              "\n",
              "            <div>\n",
              "                <p><b>SparkSession - in-memory</b></p>\n",
              "                \n",
              "        <div>\n",
              "            <p><b>SparkContext</b></p>\n",
              "\n",
              "            <p><a href=\"http://6767abf68299:4040\">Spark UI</a></p>\n",
              "\n",
              "            <dl>\n",
              "              <dt>Version</dt>\n",
              "                <dd><code>v3.3.0</code></dd>\n",
              "              <dt>Master</dt>\n",
              "                <dd><code>local[*]</code></dd>\n",
              "              <dt>AppName</dt>\n",
              "                <dd><code>Spark Session</code></dd>\n",
              "            </dl>\n",
              "        </div>\n",
              "        \n",
              "            </div>\n",
              "        "
            ],
            "text/plain": [
              "<pyspark.sql.session.SparkSession at 0x7ff687dc1590>"
            ]
          },
          "execution_count": 2,
          "metadata": {},
          "output_type": "execute_result"
        }
      ],
      "source": [
        "from functools import reduce\n",
        "\n",
        "import networkx as nx\n",
        "import nx_altair as nxa\n",
        "from pyspark.sql import DataFrame, Row, SparkSession\n",
        "from pyspark.sql import functions as F\n",
        "from pyspark.sql import types as T\n",
        "from pyspark.sql.window import Window\n",
        "\n",
        "# Create a Spark Session with GraphFrames\n",
        "spark = (\n",
        "    SparkSession.builder.master(\"local[*]\").appName(\"Spark Session\")\n",
        "    .config(\"spark.sql.repl.eagerEval.enabled\", True)\n",
        "    .config(\"spark.jars.packages\", \"graphframes:graphframes:0.8.2-spark3.2-s_2.12\")\n",
        "    .getOrCreate()\n",
        ")\n",
        "\n",
        "from graphframes import GraphFrame\n",
        "\n",
        "# Check Spark Session Information\n",
        "spark"
      ]
    },
    {
      "cell_type": "markdown",
      "metadata": {
        "id": "nPXsvN4bw1iw"
      },
      "source": [
        "# Identity Resolution\n",
        "\n",
        "In this excercise we'll be using fake customer records to demonstrate the Connected Components algorithm.\n",
        "\n",
        "Here we've setup DataFrames from three different systems that interact with customers:\n",
        "1. Loyalty: this could be a CRM or POS system\n",
        "2. Ecommerce: this could be an online platform like Shopify\n",
        "3. Subscriber: this could be an ESP like Klaviyo\n",
        "\n",
        "\n",
        "Across these systems we have two identifiers - `email` and `loyalty_id`. We've generated data quality issues to see how the algorithm can overcome these challenges."
      ]
    },
    {
      "cell_type": "code",
      "execution_count": 3,
      "metadata": {
        "colab": {
          "base_uri": "https://localhost:8080/",
          "height": 504
        },
        "id": "IbkrR16uqPQM",
        "outputId": "4af712f3-7acf-4ae8-9e3a-0297c412b066"
      },
      "outputs": [
        {
          "data": {
            "text/html": [
              "<table border='1'>\n",
              "<tr><th>email</th><th>loyalty_id</th></tr>\n",
              "<tr><td>alice@readmail.test</td><td>101</td></tr>\n",
              "<tr><td>blake@readmail.test</td><td>102</td></tr>\n",
              "<tr><td>clare@readmail.test</td><td>103</td></tr>\n",
              "<tr><td>dylan@readmail.test</td><td>104</td></tr>\n",
              "<tr><td>ethan@readmail.test</td><td>105</td></tr>\n",
              "<tr><td>fiona@readmail.test</td><td>106</td></tr>\n",
              "<tr><td>grant@readmail.test</td><td>107</td></tr>\n",
              "<tr><td>hanna@readmail.test</td><td>108</td></tr>\n",
              "<tr><td>alice@readmail.test</td><td>101</td></tr>\n",
              "<tr><td>blake@readmail.test</td><td>102</td></tr>\n",
              "<tr><td>ethan@readmail.test</td><td>112</td></tr>\n",
              "<tr><td>fiona@readmail.test</td><td>212</td></tr>\n",
              "<tr><td>grant@readmail.test</td><td>null</td></tr>\n",
              "<tr><td>hanna@readmail.test</td><td>null</td></tr>\n",
              "<tr><td>alice@bulkmail.test</td><td>101</td></tr>\n",
              "<tr><td>bloke@readmail.test</td><td>102</td></tr>\n",
              "<tr><td>dylan@readmail.test</td><td>null</td></tr>\n",
              "<tr><td>grant@readmail.test</td><td>157</td></tr>\n",
              "<tr><td>grant@readmail.test</td><td>257</td></tr>\n",
              "<tr><td>grant@readmail.test</td><td>357</td></tr>\n",
              "</table>\n"
            ],
            "text/plain": [
              "+-------------------+----------+\n",
              "|              email|loyalty_id|\n",
              "+-------------------+----------+\n",
              "|alice@readmail.test|       101|\n",
              "|blake@readmail.test|       102|\n",
              "|clare@readmail.test|       103|\n",
              "|dylan@readmail.test|       104|\n",
              "|ethan@readmail.test|       105|\n",
              "|fiona@readmail.test|       106|\n",
              "|grant@readmail.test|       107|\n",
              "|hanna@readmail.test|       108|\n",
              "|alice@readmail.test|       101|\n",
              "|blake@readmail.test|       102|\n",
              "|ethan@readmail.test|       112|\n",
              "|fiona@readmail.test|       212|\n",
              "|grant@readmail.test|      null|\n",
              "|hanna@readmail.test|      null|\n",
              "|alice@bulkmail.test|       101|\n",
              "|bloke@readmail.test|       102|\n",
              "|dylan@readmail.test|      null|\n",
              "|grant@readmail.test|       157|\n",
              "|grant@readmail.test|       257|\n",
              "|grant@readmail.test|       357|\n",
              "+-------------------+----------+"
            ]
          },
          "execution_count": 3,
          "metadata": {},
          "output_type": "execute_result"
        }
      ],
      "source": [
        "loyalty_records = spark.createDataFrame(\n",
        "    [\n",
        "        Row(email=\"alice@readmail.test\", loyalty_id=101),\n",
        "        Row(email=\"blake@readmail.test\", loyalty_id=102),\n",
        "        Row(email=\"clare@readmail.test\", loyalty_id=103),\n",
        "        Row(email=\"dylan@readmail.test\", loyalty_id=104),\n",
        "        Row(email=\"ethan@readmail.test\", loyalty_id=105),\n",
        "        Row(email=\"fiona@readmail.test\", loyalty_id=106),\n",
        "        Row(email=\"grant@readmail.test\", loyalty_id=107),\n",
        "        Row(email=\"hanna@readmail.test\", loyalty_id=108),\n",
        "    ],\n",
        ")\n",
        "\n",
        "ecommerce_records = spark.createDataFrame(\n",
        "    [\n",
        "        Row(email=\"alice@readmail.test\", loyalty_id=101),\n",
        "        Row(email=\"blake@readmail.test\", loyalty_id=102),\n",
        "        # Same email address, different loyalty_id\n",
        "        Row(email=\"ethan@readmail.test\", loyalty_id=112),\n",
        "        # Same email address, different loyalty_id\n",
        "        Row(email=\"fiona@readmail.test\", loyalty_id=212),\n",
        "        Row(email=\"grant@readmail.test\", loyalty_id=None),\n",
        "        Row(email=\"hanna@readmail.test\", loyalty_id=None),\n",
        "    ],\n",
        ")\n",
        "\n",
        "subscriber_records = spark.createDataFrame(\n",
        "    [\n",
        "        # Differfent email domain, same loyalty_id\n",
        "        Row(email=\"alice@bulkmail.test\", loyalty_id=101),\n",
        "        # Misspelled email username, same loyalty_id\n",
        "        Row(email=\"bloke@readmail.test\", loyalty_id=102),\n",
        "        Row(email=\"dylan@readmail.test\", loyalty_id=None),\n",
        "        # Many loyalty_ids by the same email address\n",
        "        Row(email=\"grant@readmail.test\", loyalty_id=157),\n",
        "        Row(email=\"grant@readmail.test\", loyalty_id=257),\n",
        "        Row(email=\"grant@readmail.test\", loyalty_id=357),\n",
        "    ],\n",
        ")\n",
        "\n",
        "customers = loyalty_records.union(ecommerce_records).union(subscriber_records)\n",
        "\n",
        "customers"
      ]
    },
    {
      "cell_type": "markdown",
      "metadata": {
        "id": "0Fc0NwVWy4K4"
      },
      "source": [
        "# Vertices\n",
        "\n",
        "Data from all systems is unioned into a single dataframe `customers`. To form our `vertices` table we simply add a row number as the `id` column. This column is necessary for constructing the graph.\n",
        "\n",
        "Note that we prefer [row_number](https://spark.apache.org/docs/latest/api/python/reference/pyspark.sql/api/pyspark.sql.functions.row_number.html#pyspark.sql.functions.row_number) over [monotonically_increasing_id](https://spark.apache.org/docs/latest/api/python/reference/pyspark.sql/api/pyspark.sql.functions.monotonically_increasing_id.html#pyspark.sql.functions.monotonically_increasing_id) which is non-deterministic."
      ]
    },
    {
      "cell_type": "code",
      "execution_count": 4,
      "metadata": {
        "colab": {
          "base_uri": "https://localhost:8080/",
          "height": 504
        },
        "id": "0S0mzDiGtOtC",
        "outputId": "2c7932c9-2c68-4dcd-eb6a-9dc1c5aaeb54"
      },
      "outputs": [
        {
          "data": {
            "text/html": [
              "<table border='1'>\n",
              "<tr><th>email</th><th>loyalty_id</th><th>id</th></tr>\n",
              "<tr><td>alice@bulkmail.test</td><td>101</td><td>1</td></tr>\n",
              "<tr><td>alice@readmail.test</td><td>101</td><td>2</td></tr>\n",
              "<tr><td>alice@readmail.test</td><td>101</td><td>3</td></tr>\n",
              "<tr><td>blake@readmail.test</td><td>102</td><td>4</td></tr>\n",
              "<tr><td>blake@readmail.test</td><td>102</td><td>5</td></tr>\n",
              "<tr><td>bloke@readmail.test</td><td>102</td><td>6</td></tr>\n",
              "<tr><td>clare@readmail.test</td><td>103</td><td>7</td></tr>\n",
              "<tr><td>dylan@readmail.test</td><td>104</td><td>8</td></tr>\n",
              "<tr><td>dylan@readmail.test</td><td>null</td><td>9</td></tr>\n",
              "<tr><td>ethan@readmail.test</td><td>105</td><td>10</td></tr>\n",
              "<tr><td>ethan@readmail.test</td><td>112</td><td>11</td></tr>\n",
              "<tr><td>fiona@readmail.test</td><td>106</td><td>12</td></tr>\n",
              "<tr><td>fiona@readmail.test</td><td>212</td><td>13</td></tr>\n",
              "<tr><td>grant@readmail.test</td><td>107</td><td>14</td></tr>\n",
              "<tr><td>grant@readmail.test</td><td>null</td><td>15</td></tr>\n",
              "<tr><td>grant@readmail.test</td><td>157</td><td>16</td></tr>\n",
              "<tr><td>grant@readmail.test</td><td>257</td><td>17</td></tr>\n",
              "<tr><td>grant@readmail.test</td><td>357</td><td>18</td></tr>\n",
              "<tr><td>hanna@readmail.test</td><td>108</td><td>19</td></tr>\n",
              "<tr><td>hanna@readmail.test</td><td>null</td><td>20</td></tr>\n",
              "</table>\n"
            ],
            "text/plain": [
              "+-------------------+----------+---+\n",
              "|              email|loyalty_id| id|\n",
              "+-------------------+----------+---+\n",
              "|alice@bulkmail.test|       101|  1|\n",
              "|alice@readmail.test|       101|  2|\n",
              "|alice@readmail.test|       101|  3|\n",
              "|blake@readmail.test|       102|  4|\n",
              "|blake@readmail.test|       102|  5|\n",
              "|bloke@readmail.test|       102|  6|\n",
              "|clare@readmail.test|       103|  7|\n",
              "|dylan@readmail.test|       104|  8|\n",
              "|dylan@readmail.test|      null|  9|\n",
              "|ethan@readmail.test|       105| 10|\n",
              "|ethan@readmail.test|       112| 11|\n",
              "|fiona@readmail.test|       106| 12|\n",
              "|fiona@readmail.test|       212| 13|\n",
              "|grant@readmail.test|       107| 14|\n",
              "|grant@readmail.test|      null| 15|\n",
              "|grant@readmail.test|       157| 16|\n",
              "|grant@readmail.test|       257| 17|\n",
              "|grant@readmail.test|       357| 18|\n",
              "|hanna@readmail.test|       108| 19|\n",
              "|hanna@readmail.test|      null| 20|\n",
              "+-------------------+----------+---+"
            ]
          },
          "execution_count": 4,
          "metadata": {},
          "output_type": "execute_result"
        }
      ],
      "source": [
        "# Vertics is the same as customers, but with a row number as the `id`\n",
        "# This id is necessary for constructing the graph\n",
        "\n",
        "vertices = customers.withColumn(\n",
        "    \"id\", F.row_number().over(Window.partitionBy(F.lit(1)).orderBy(F.asc(\"email\")))\n",
        ")\n",
        "\n",
        "vertices"
      ]
    },
    {
      "cell_type": "markdown",
      "metadata": {
        "id": "y6Gv34mWz9eo"
      },
      "source": [
        "# Edges\n",
        "\n",
        "Edges are defined as relationships between our vertices where an identifier is shared. We'll need to *discover* these relationships ourselves and provide to GraphFrames as another dataframe.\n",
        "\n",
        "Here's the method we'll use:\n",
        "1. Organise the identifiers of each `id` row into a single stack `identifiers`\n",
        "2. Copy the `identifiers` dataframe as `mirror` and prepend column names with `_`\n",
        "3. Join `identifiers` with `mirror` wherever the identifiers match but `identifiers.id` < `mirror._id`"
      ]
    },
    {
      "cell_type": "code",
      "execution_count": 5,
      "metadata": {
        "colab": {
          "base_uri": "https://localhost:8080/",
          "height": 521
        },
        "id": "YOr5dTwSteSj",
        "outputId": "b3770e72-0820-4fa2-e216-99a57096ab1f"
      },
      "outputs": [
        {
          "data": {
            "text/html": [
              "<table border='1'>\n",
              "<tr><th>id</th><th>link_value</th><th>link_type</th><th>action</th></tr>\n",
              "<tr><td>1</td><td>alice@bulkmail.test</td><td>email</td><td>Shares email</td></tr>\n",
              "<tr><td>2</td><td>alice@readmail.test</td><td>email</td><td>Shares email</td></tr>\n",
              "<tr><td>3</td><td>alice@readmail.test</td><td>email</td><td>Shares email</td></tr>\n",
              "<tr><td>4</td><td>blake@readmail.test</td><td>email</td><td>Shares email</td></tr>\n",
              "<tr><td>5</td><td>blake@readmail.test</td><td>email</td><td>Shares email</td></tr>\n",
              "<tr><td>6</td><td>bloke@readmail.test</td><td>email</td><td>Shares email</td></tr>\n",
              "<tr><td>7</td><td>clare@readmail.test</td><td>email</td><td>Shares email</td></tr>\n",
              "<tr><td>8</td><td>dylan@readmail.test</td><td>email</td><td>Shares email</td></tr>\n",
              "<tr><td>9</td><td>dylan@readmail.test</td><td>email</td><td>Shares email</td></tr>\n",
              "<tr><td>10</td><td>ethan@readmail.test</td><td>email</td><td>Shares email</td></tr>\n",
              "<tr><td>11</td><td>ethan@readmail.test</td><td>email</td><td>Shares email</td></tr>\n",
              "<tr><td>12</td><td>fiona@readmail.test</td><td>email</td><td>Shares email</td></tr>\n",
              "<tr><td>13</td><td>fiona@readmail.test</td><td>email</td><td>Shares email</td></tr>\n",
              "<tr><td>14</td><td>grant@readmail.test</td><td>email</td><td>Shares email</td></tr>\n",
              "<tr><td>15</td><td>grant@readmail.test</td><td>email</td><td>Shares email</td></tr>\n",
              "<tr><td>16</td><td>grant@readmail.test</td><td>email</td><td>Shares email</td></tr>\n",
              "<tr><td>17</td><td>grant@readmail.test</td><td>email</td><td>Shares email</td></tr>\n",
              "<tr><td>18</td><td>grant@readmail.test</td><td>email</td><td>Shares email</td></tr>\n",
              "<tr><td>19</td><td>hanna@readmail.test</td><td>email</td><td>Shares email</td></tr>\n",
              "<tr><td>20</td><td>hanna@readmail.test</td><td>email</td><td>Shares email</td></tr>\n",
              "</table>\n",
              "only showing top 20 rows\n"
            ],
            "text/plain": [
              "+---+-------------------+---------+------------+\n",
              "| id|         link_value|link_type|      action|\n",
              "+---+-------------------+---------+------------+\n",
              "|  1|alice@bulkmail.test|    email|Shares email|\n",
              "|  2|alice@readmail.test|    email|Shares email|\n",
              "|  3|alice@readmail.test|    email|Shares email|\n",
              "|  4|blake@readmail.test|    email|Shares email|\n",
              "|  5|blake@readmail.test|    email|Shares email|\n",
              "|  6|bloke@readmail.test|    email|Shares email|\n",
              "|  7|clare@readmail.test|    email|Shares email|\n",
              "|  8|dylan@readmail.test|    email|Shares email|\n",
              "|  9|dylan@readmail.test|    email|Shares email|\n",
              "| 10|ethan@readmail.test|    email|Shares email|\n",
              "| 11|ethan@readmail.test|    email|Shares email|\n",
              "| 12|fiona@readmail.test|    email|Shares email|\n",
              "| 13|fiona@readmail.test|    email|Shares email|\n",
              "| 14|grant@readmail.test|    email|Shares email|\n",
              "| 15|grant@readmail.test|    email|Shares email|\n",
              "| 16|grant@readmail.test|    email|Shares email|\n",
              "| 17|grant@readmail.test|    email|Shares email|\n",
              "| 18|grant@readmail.test|    email|Shares email|\n",
              "| 19|hanna@readmail.test|    email|Shares email|\n",
              "| 20|hanna@readmail.test|    email|Shares email|\n",
              "+---+-------------------+---------+------------+\n",
              "only showing top 20 rows"
            ]
          },
          "execution_count": 5,
          "metadata": {},
          "output_type": "execute_result"
        }
      ],
      "source": [
        "IDENTIFIER_FIELDS = [\"email\", \"loyalty_id\"]\n",
        "\n",
        "identifier_frames = (\n",
        "    vertices.select(\n",
        "        \"id\",\n",
        "        F.col(idef).alias(\"link_value\"),\n",
        "        F.lit(idef).alias(\"link_type\"),\n",
        "        F.lit(\"Shares \" + idef).alias(\"action\"),\n",
        "    )\n",
        "    for idef in IDENTIFIER_FIELDS\n",
        ")\n",
        "\n",
        "identifiers = reduce(DataFrame.unionAll, identifier_frames).where(\n",
        "    F.col(\"link_value\").isNotNull()\n",
        ")\n",
        "\n",
        "identifiers"
      ]
    },
    {
      "cell_type": "code",
      "execution_count": 6,
      "metadata": {
        "colab": {
          "base_uri": "https://localhost:8080/",
          "height": 521
        },
        "id": "WfkuPsVQtgNF",
        "outputId": "1cccad15-bf61-4cf2-8574-15aa2d5f8930"
      },
      "outputs": [
        {
          "data": {
            "text/html": [
              "<table border='1'>\n",
              "<tr><th>_id</th><th>_link_value</th><th>_link_type</th><th>_action</th></tr>\n",
              "<tr><td>1</td><td>alice@bulkmail.test</td><td>email</td><td>Shares email</td></tr>\n",
              "<tr><td>2</td><td>alice@readmail.test</td><td>email</td><td>Shares email</td></tr>\n",
              "<tr><td>3</td><td>alice@readmail.test</td><td>email</td><td>Shares email</td></tr>\n",
              "<tr><td>4</td><td>blake@readmail.test</td><td>email</td><td>Shares email</td></tr>\n",
              "<tr><td>5</td><td>blake@readmail.test</td><td>email</td><td>Shares email</td></tr>\n",
              "<tr><td>6</td><td>bloke@readmail.test</td><td>email</td><td>Shares email</td></tr>\n",
              "<tr><td>7</td><td>clare@readmail.test</td><td>email</td><td>Shares email</td></tr>\n",
              "<tr><td>8</td><td>dylan@readmail.test</td><td>email</td><td>Shares email</td></tr>\n",
              "<tr><td>9</td><td>dylan@readmail.test</td><td>email</td><td>Shares email</td></tr>\n",
              "<tr><td>10</td><td>ethan@readmail.test</td><td>email</td><td>Shares email</td></tr>\n",
              "<tr><td>11</td><td>ethan@readmail.test</td><td>email</td><td>Shares email</td></tr>\n",
              "<tr><td>12</td><td>fiona@readmail.test</td><td>email</td><td>Shares email</td></tr>\n",
              "<tr><td>13</td><td>fiona@readmail.test</td><td>email</td><td>Shares email</td></tr>\n",
              "<tr><td>14</td><td>grant@readmail.test</td><td>email</td><td>Shares email</td></tr>\n",
              "<tr><td>15</td><td>grant@readmail.test</td><td>email</td><td>Shares email</td></tr>\n",
              "<tr><td>16</td><td>grant@readmail.test</td><td>email</td><td>Shares email</td></tr>\n",
              "<tr><td>17</td><td>grant@readmail.test</td><td>email</td><td>Shares email</td></tr>\n",
              "<tr><td>18</td><td>grant@readmail.test</td><td>email</td><td>Shares email</td></tr>\n",
              "<tr><td>19</td><td>hanna@readmail.test</td><td>email</td><td>Shares email</td></tr>\n",
              "<tr><td>20</td><td>hanna@readmail.test</td><td>email</td><td>Shares email</td></tr>\n",
              "</table>\n",
              "only showing top 20 rows\n"
            ],
            "text/plain": [
              "+---+-------------------+----------+------------+\n",
              "|_id|        _link_value|_link_type|     _action|\n",
              "+---+-------------------+----------+------------+\n",
              "|  1|alice@bulkmail.test|     email|Shares email|\n",
              "|  2|alice@readmail.test|     email|Shares email|\n",
              "|  3|alice@readmail.test|     email|Shares email|\n",
              "|  4|blake@readmail.test|     email|Shares email|\n",
              "|  5|blake@readmail.test|     email|Shares email|\n",
              "|  6|bloke@readmail.test|     email|Shares email|\n",
              "|  7|clare@readmail.test|     email|Shares email|\n",
              "|  8|dylan@readmail.test|     email|Shares email|\n",
              "|  9|dylan@readmail.test|     email|Shares email|\n",
              "| 10|ethan@readmail.test|     email|Shares email|\n",
              "| 11|ethan@readmail.test|     email|Shares email|\n",
              "| 12|fiona@readmail.test|     email|Shares email|\n",
              "| 13|fiona@readmail.test|     email|Shares email|\n",
              "| 14|grant@readmail.test|     email|Shares email|\n",
              "| 15|grant@readmail.test|     email|Shares email|\n",
              "| 16|grant@readmail.test|     email|Shares email|\n",
              "| 17|grant@readmail.test|     email|Shares email|\n",
              "| 18|grant@readmail.test|     email|Shares email|\n",
              "| 19|hanna@readmail.test|     email|Shares email|\n",
              "| 20|hanna@readmail.test|     email|Shares email|\n",
              "+---+-------------------+----------+------------+\n",
              "only showing top 20 rows"
            ]
          },
          "execution_count": 6,
          "metadata": {},
          "output_type": "execute_result"
        }
      ],
      "source": [
        "mirror = identifiers.toDF(*(\"_\" + col for col in identifiers.columns))\n",
        "\n",
        "mirror"
      ]
    },
    {
      "cell_type": "code",
      "execution_count": 7,
      "metadata": {
        "colab": {
          "base_uri": "https://localhost:8080/",
          "height": 521
        },
        "id": "VeThFjKRtiFL",
        "outputId": "2b9626a0-3e65-450e-b528-8e39a4d99876"
      },
      "outputs": [
        {
          "data": {
            "text/html": [
              "<table border='1'>\n",
              "<tr><th>src</th><th>dst</th><th>link_value</th><th>link_type</th><th>action</th></tr>\n",
              "<tr><td>2</td><td>3</td><td>alice@readmail.test</td><td>email</td><td>Shares email</td></tr>\n",
              "<tr><td>4</td><td>5</td><td>blake@readmail.test</td><td>email</td><td>Shares email</td></tr>\n",
              "<tr><td>8</td><td>9</td><td>dylan@readmail.test</td><td>email</td><td>Shares email</td></tr>\n",
              "<tr><td>10</td><td>11</td><td>ethan@readmail.test</td><td>email</td><td>Shares email</td></tr>\n",
              "<tr><td>12</td><td>13</td><td>fiona@readmail.test</td><td>email</td><td>Shares email</td></tr>\n",
              "<tr><td>14</td><td>18</td><td>grant@readmail.test</td><td>email</td><td>Shares email</td></tr>\n",
              "<tr><td>14</td><td>17</td><td>grant@readmail.test</td><td>email</td><td>Shares email</td></tr>\n",
              "<tr><td>14</td><td>16</td><td>grant@readmail.test</td><td>email</td><td>Shares email</td></tr>\n",
              "<tr><td>14</td><td>15</td><td>grant@readmail.test</td><td>email</td><td>Shares email</td></tr>\n",
              "<tr><td>15</td><td>18</td><td>grant@readmail.test</td><td>email</td><td>Shares email</td></tr>\n",
              "<tr><td>15</td><td>17</td><td>grant@readmail.test</td><td>email</td><td>Shares email</td></tr>\n",
              "<tr><td>15</td><td>16</td><td>grant@readmail.test</td><td>email</td><td>Shares email</td></tr>\n",
              "<tr><td>16</td><td>18</td><td>grant@readmail.test</td><td>email</td><td>Shares email</td></tr>\n",
              "<tr><td>16</td><td>17</td><td>grant@readmail.test</td><td>email</td><td>Shares email</td></tr>\n",
              "<tr><td>17</td><td>18</td><td>grant@readmail.test</td><td>email</td><td>Shares email</td></tr>\n",
              "<tr><td>19</td><td>20</td><td>hanna@readmail.test</td><td>email</td><td>Shares email</td></tr>\n",
              "<tr><td>1</td><td>3</td><td>101</td><td>loyalty_id</td><td>Shares loyalty_id</td></tr>\n",
              "<tr><td>1</td><td>2</td><td>101</td><td>loyalty_id</td><td>Shares loyalty_id</td></tr>\n",
              "<tr><td>2</td><td>3</td><td>101</td><td>loyalty_id</td><td>Shares loyalty_id</td></tr>\n",
              "<tr><td>4</td><td>6</td><td>102</td><td>loyalty_id</td><td>Shares loyalty_id</td></tr>\n",
              "</table>\n",
              "only showing top 20 rows\n"
            ],
            "text/plain": [
              "+---+---+-------------------+----------+-----------------+\n",
              "|src|dst|         link_value| link_type|           action|\n",
              "+---+---+-------------------+----------+-----------------+\n",
              "|  2|  3|alice@readmail.test|     email|     Shares email|\n",
              "|  4|  5|blake@readmail.test|     email|     Shares email|\n",
              "|  8|  9|dylan@readmail.test|     email|     Shares email|\n",
              "| 10| 11|ethan@readmail.test|     email|     Shares email|\n",
              "| 12| 13|fiona@readmail.test|     email|     Shares email|\n",
              "| 14| 18|grant@readmail.test|     email|     Shares email|\n",
              "| 14| 17|grant@readmail.test|     email|     Shares email|\n",
              "| 14| 16|grant@readmail.test|     email|     Shares email|\n",
              "| 14| 15|grant@readmail.test|     email|     Shares email|\n",
              "| 15| 18|grant@readmail.test|     email|     Shares email|\n",
              "| 15| 17|grant@readmail.test|     email|     Shares email|\n",
              "| 15| 16|grant@readmail.test|     email|     Shares email|\n",
              "| 16| 18|grant@readmail.test|     email|     Shares email|\n",
              "| 16| 17|grant@readmail.test|     email|     Shares email|\n",
              "| 17| 18|grant@readmail.test|     email|     Shares email|\n",
              "| 19| 20|hanna@readmail.test|     email|     Shares email|\n",
              "|  1|  3|                101|loyalty_id|Shares loyalty_id|\n",
              "|  1|  2|                101|loyalty_id|Shares loyalty_id|\n",
              "|  2|  3|                101|loyalty_id|Shares loyalty_id|\n",
              "|  4|  6|                102|loyalty_id|Shares loyalty_id|\n",
              "+---+---+-------------------+----------+-----------------+\n",
              "only showing top 20 rows"
            ]
          },
          "execution_count": 7,
          "metadata": {},
          "output_type": "execute_result"
        }
      ],
      "source": [
        "join_conditions = [\n",
        "    (F.col(\"id\") < F.col(\"_id\")) & (F.col(\"link_value\") == F.col(\"_link_value\"))\n",
        "]\n",
        "\n",
        "edges = identifiers.join(mirror, join_conditions).select(\n",
        "    F.col(\"id\").alias(\"src\"),\n",
        "    F.col(\"_id\").alias(\"dst\"),\n",
        "    \"link_value\",\n",
        "    \"link_type\",\n",
        "    \"action\",\n",
        ")\n",
        "\n",
        "edges"
      ]
    },
    {
      "cell_type": "markdown",
      "metadata": {
        "id": "XBskQjad175x"
      },
      "source": [
        "# Graph\n",
        "\n",
        "Now we have everything in place to construct the `graph` and call [connectedComponents](https://graphframes.github.io/graphframes/docs/_site/user-guide.html#connected-components)."
      ]
    },
    {
      "cell_type": "code",
      "execution_count": 8,
      "metadata": {
        "colab": {
          "base_uri": "https://localhost:8080/",
          "height": 572
        },
        "id": "AAv4lXKetjyn",
        "outputId": "44e36af8-2171-447a-f10d-22b161fe3f95"
      },
      "outputs": [
        {
          "name": "stderr",
          "output_type": "stream",
          "text": [
            "/usr/local/lib/python3.7/dist-packages/pyspark/sql/dataframe.py:149: UserWarning: DataFrame.sql_ctx is an internal property, and will be removed in future releases. Use DataFrame.sparkSession instead.\n",
            "  \"DataFrame.sql_ctx is an internal property, and will be removed \"\n",
            "/usr/local/lib/python3.7/dist-packages/pyspark/sql/dataframe.py:127: UserWarning: DataFrame constructor is internal. Do not directly use it.\n",
            "  warnings.warn(\"DataFrame constructor is internal. Do not directly use it.\")\n"
          ]
        },
        {
          "data": {
            "text/html": [
              "<table border='1'>\n",
              "<tr><th>email</th><th>loyalty_id</th><th>id</th><th>component</th></tr>\n",
              "<tr><td>alice@bulkmail.test</td><td>101</td><td>1</td><td>1</td></tr>\n",
              "<tr><td>alice@readmail.test</td><td>101</td><td>2</td><td>1</td></tr>\n",
              "<tr><td>alice@readmail.test</td><td>101</td><td>3</td><td>1</td></tr>\n",
              "<tr><td>blake@readmail.test</td><td>102</td><td>4</td><td>4</td></tr>\n",
              "<tr><td>blake@readmail.test</td><td>102</td><td>5</td><td>4</td></tr>\n",
              "<tr><td>bloke@readmail.test</td><td>102</td><td>6</td><td>4</td></tr>\n",
              "<tr><td>clare@readmail.test</td><td>103</td><td>7</td><td>7</td></tr>\n",
              "<tr><td>dylan@readmail.test</td><td>104</td><td>8</td><td>8</td></tr>\n",
              "<tr><td>dylan@readmail.test</td><td>null</td><td>9</td><td>8</td></tr>\n",
              "<tr><td>ethan@readmail.test</td><td>105</td><td>10</td><td>10</td></tr>\n",
              "<tr><td>ethan@readmail.test</td><td>112</td><td>11</td><td>10</td></tr>\n",
              "<tr><td>fiona@readmail.test</td><td>106</td><td>12</td><td>12</td></tr>\n",
              "<tr><td>fiona@readmail.test</td><td>212</td><td>13</td><td>12</td></tr>\n",
              "<tr><td>grant@readmail.test</td><td>107</td><td>14</td><td>14</td></tr>\n",
              "<tr><td>grant@readmail.test</td><td>null</td><td>15</td><td>14</td></tr>\n",
              "<tr><td>grant@readmail.test</td><td>157</td><td>16</td><td>14</td></tr>\n",
              "<tr><td>grant@readmail.test</td><td>257</td><td>17</td><td>14</td></tr>\n",
              "<tr><td>grant@readmail.test</td><td>357</td><td>18</td><td>14</td></tr>\n",
              "<tr><td>hanna@readmail.test</td><td>108</td><td>19</td><td>19</td></tr>\n",
              "<tr><td>hanna@readmail.test</td><td>null</td><td>20</td><td>19</td></tr>\n",
              "</table>\n"
            ],
            "text/plain": [
              "+-------------------+----------+---+---------+\n",
              "|              email|loyalty_id| id|component|\n",
              "+-------------------+----------+---+---------+\n",
              "|alice@bulkmail.test|       101|  1|        1|\n",
              "|alice@readmail.test|       101|  2|        1|\n",
              "|alice@readmail.test|       101|  3|        1|\n",
              "|blake@readmail.test|       102|  4|        4|\n",
              "|blake@readmail.test|       102|  5|        4|\n",
              "|bloke@readmail.test|       102|  6|        4|\n",
              "|clare@readmail.test|       103|  7|        7|\n",
              "|dylan@readmail.test|       104|  8|        8|\n",
              "|dylan@readmail.test|      null|  9|        8|\n",
              "|ethan@readmail.test|       105| 10|       10|\n",
              "|ethan@readmail.test|       112| 11|       10|\n",
              "|fiona@readmail.test|       106| 12|       12|\n",
              "|fiona@readmail.test|       212| 13|       12|\n",
              "|grant@readmail.test|       107| 14|       14|\n",
              "|grant@readmail.test|      null| 15|       14|\n",
              "|grant@readmail.test|       157| 16|       14|\n",
              "|grant@readmail.test|       257| 17|       14|\n",
              "|grant@readmail.test|       357| 18|       14|\n",
              "|hanna@readmail.test|       108| 19|       19|\n",
              "|hanna@readmail.test|      null| 20|       19|\n",
              "+-------------------+----------+---+---------+"
            ]
          },
          "execution_count": 8,
          "metadata": {},
          "output_type": "execute_result"
        }
      ],
      "source": [
        "# create graph\n",
        "graph = GraphFrame(vertices, edges)\n",
        "\n",
        "# run connected components\n",
        "spark.sparkContext.setCheckpointDir(\"/tmp/checkpoints\")\n",
        "cc = graph.connectedComponents()\n",
        "\n",
        "cc"
      ]
    },
    {
      "cell_type": "markdown",
      "metadata": {
        "id": "jLw0dbnU2Pw4"
      },
      "source": [
        "# Visualisation\n",
        "\n",
        "Connected components has discovered the distinct set of identities in our data. The `component` number stores this for us - it is the minimum `id` of all vertices.\n",
        "\n",
        "As we're using a toy dataset it's easy enough to visualise this with NetworkX."
      ]
    },
    {
      "cell_type": "code",
      "execution_count": 9,
      "metadata": {
        "colab": {
          "base_uri": "https://localhost:8080/",
          "height": 848
        },
        "id": "xEEnCIb5tlaX",
        "outputId": "57bd09ce-2932-4ac6-e93c-0586845d4a4a"
      },
      "outputs": [
        {
          "data": {
            "text/html": [
              "\n",
              "<div id=\"altair-viz-18705178c03c48c2a0bb7d474727fff6\"></div>\n",
              "<script type=\"text/javascript\">\n",
              "  var VEGA_DEBUG = (typeof VEGA_DEBUG == \"undefined\") ? {} : VEGA_DEBUG;\n",
              "  (function(spec, embedOpt){\n",
              "    let outputDiv = document.currentScript.previousElementSibling;\n",
              "    if (outputDiv.id !== \"altair-viz-18705178c03c48c2a0bb7d474727fff6\") {\n",
              "      outputDiv = document.getElementById(\"altair-viz-18705178c03c48c2a0bb7d474727fff6\");\n",
              "    }\n",
              "    const paths = {\n",
              "      \"vega\": \"https://cdn.jsdelivr.net/npm//vega@5?noext\",\n",
              "      \"vega-lib\": \"https://cdn.jsdelivr.net/npm//vega-lib?noext\",\n",
              "      \"vega-lite\": \"https://cdn.jsdelivr.net/npm//vega-lite@4.17.0?noext\",\n",
              "      \"vega-embed\": \"https://cdn.jsdelivr.net/npm//vega-embed@6?noext\",\n",
              "    };\n",
              "\n",
              "    function maybeLoadScript(lib, version) {\n",
              "      var key = `${lib.replace(\"-\", \"\")}_version`;\n",
              "      return (VEGA_DEBUG[key] == version) ?\n",
              "        Promise.resolve(paths[lib]) :\n",
              "        new Promise(function(resolve, reject) {\n",
              "          var s = document.createElement('script');\n",
              "          document.getElementsByTagName(\"head\")[0].appendChild(s);\n",
              "          s.async = true;\n",
              "          s.onload = () => {\n",
              "            VEGA_DEBUG[key] = version;\n",
              "            return resolve(paths[lib]);\n",
              "          };\n",
              "          s.onerror = () => reject(`Error loading script: ${paths[lib]}`);\n",
              "          s.src = paths[lib];\n",
              "        });\n",
              "    }\n",
              "\n",
              "    function showError(err) {\n",
              "      outputDiv.innerHTML = `<div class=\"error\" style=\"color:red;\">${err}</div>`;\n",
              "      throw err;\n",
              "    }\n",
              "\n",
              "    function displayChart(vegaEmbed) {\n",
              "      vegaEmbed(outputDiv, spec, embedOpt)\n",
              "        .catch(err => showError(`Javascript Error: ${err.message}<br>This usually means there's a typo in your chart specification. See the javascript console for the full traceback.`));\n",
              "    }\n",
              "\n",
              "    if(typeof define === \"function\" && define.amd) {\n",
              "      requirejs.config({paths});\n",
              "      require([\"vega-embed\"], displayChart, err => showError(`Error loading script: ${err.message}`));\n",
              "    } else {\n",
              "      maybeLoadScript(\"vega\", \"5\")\n",
              "        .then(() => maybeLoadScript(\"vega-lite\", \"4.17.0\"))\n",
              "        .then(() => maybeLoadScript(\"vega-embed\", \"6\"))\n",
              "        .catch(showError)\n",
              "        .then(() => displayChart(vegaEmbed));\n",
              "    }\n",
              "  })({\"config\": {\"view\": {\"continuousWidth\": 400, \"continuousHeight\": 300}}, \"layer\": [{\"data\": {\"name\": \"data-7b5fc43c3eb5eeb83e899f2f18aa2853\"}, \"mark\": {\"type\": \"line\", \"color\": \"black\", \"opacity\": 1, \"strokeWidth\": 1}, \"encoding\": {\"detail\": {\"field\": \"edge\", \"type\": \"quantitative\"}, \"tooltip\": [{\"field\": \"action\", \"type\": \"nominal\"}], \"x\": {\"axis\": {\"grid\": false, \"labels\": false, \"ticks\": false, \"title\": \"\"}, \"field\": \"x\", \"type\": \"quantitative\"}, \"y\": {\"axis\": {\"grid\": false, \"labels\": false, \"ticks\": false, \"title\": \"\"}, \"field\": \"y\", \"type\": \"quantitative\"}}, \"selection\": {\"selector001\": {\"type\": \"interval\", \"bind\": \"scales\", \"encodings\": [\"x\", \"y\"]}}}, {\"data\": {\"name\": \"data-9dadccca059b406072f171156dba0412\"}, \"mark\": {\"type\": \"point\", \"opacity\": 1, \"size\": 300, \"strokeWidth\": 1.0}, \"encoding\": {\"fill\": {\"field\": \"component\", \"type\": \"nominal\"}, \"tooltip\": [{\"field\": \"component\", \"type\": \"nominal\"}, {\"field\": \"email\", \"type\": \"nominal\"}, {\"field\": \"loyalty_id\", \"type\": \"quantitative\"}], \"x\": {\"axis\": {\"grid\": false, \"labels\": false, \"ticks\": false}, \"field\": \"x\", \"type\": \"quantitative\"}, \"y\": {\"axis\": {\"grid\": false, \"labels\": false, \"ticks\": false}, \"field\": \"y\", \"type\": \"quantitative\"}}}], \"height\": 800, \"title\": \"Identity Graph View\", \"width\": 1200, \"$schema\": \"https://vega.github.io/schema/vega-lite/v4.17.0.json\", \"datasets\": {\"data-7b5fc43c3eb5eeb83e899f2f18aa2853\": [{\"source\": 1, \"edge\": 0, \"target\": 3, \"link_value\": \"101\", \"y\": 0.10609971562983402, \"x\": 0.9022821054330333, \"pair\": [1, 3], \"action\": \"Shares loyalty_id\", \"link_type\": \"loyalty_id\"}, {\"source\": 1, \"edge\": 0, \"target\": 3, \"link_value\": \"101\", \"y\": 0.08412026048403148, \"x\": 1.0, \"pair\": [1, 3], \"action\": \"Shares loyalty_id\", \"link_type\": \"loyalty_id\"}, {\"source\": 1, \"edge\": 1, \"target\": 2, \"link_value\": \"101\", \"y\": 0.10609971562983402, \"x\": 0.9022821054330333, \"pair\": [1, 2], \"action\": \"Shares loyalty_id\", \"link_type\": \"loyalty_id\"}, {\"source\": 1, \"edge\": 1, \"target\": 2, \"link_value\": \"101\", \"y\": 0.16049718781273237, \"x\": 0.9800999864347193, \"pair\": [1, 2], \"action\": \"Shares loyalty_id\", \"link_type\": \"loyalty_id\"}, {\"source\": 2, \"edge\": 2, \"target\": 3, \"link_value\": \"alice@readmail.test\", \"y\": 0.16049718781273237, \"x\": 0.9800999864347193, \"pair\": [2, 3], \"action\": \"Shares email\", \"link_type\": \"email\"}, {\"source\": 2, \"edge\": 2, \"target\": 3, \"link_value\": \"alice@readmail.test\", \"y\": 0.08412026048403148, \"x\": 1.0, \"pair\": [2, 3], \"action\": \"Shares email\", \"link_type\": \"email\"}, {\"source\": 4, \"edge\": 3, \"target\": 5, \"link_value\": \"blake@readmail.test\", \"y\": -0.08918613075486126, \"x\": -0.6148190419288598, \"pair\": [4, 5], \"action\": \"Shares email\", \"link_type\": \"email\"}, {\"source\": 4, \"edge\": 3, \"target\": 5, \"link_value\": \"blake@readmail.test\", \"y\": -0.0354367147889304, \"x\": -0.5491030765232348, \"pair\": [4, 5], \"action\": \"Shares email\", \"link_type\": \"email\"}, {\"source\": 4, \"edge\": 4, \"target\": 6, \"link_value\": \"102\", \"y\": -0.08918613075486126, \"x\": -0.6148190419288598, \"pair\": [4, 6], \"action\": \"Shares loyalty_id\", \"link_type\": \"loyalty_id\"}, {\"source\": 4, \"edge\": 4, \"target\": 6, \"link_value\": \"102\", \"y\": -0.1161658697281041, \"x\": -0.5298397627416771, \"pair\": [4, 6], \"action\": \"Shares loyalty_id\", \"link_type\": \"loyalty_id\"}, {\"source\": 5, \"edge\": 5, \"target\": 6, \"link_value\": \"102\", \"y\": -0.0354367147889304, \"x\": -0.5491030765232348, \"pair\": [5, 6], \"action\": \"Shares loyalty_id\", \"link_type\": \"loyalty_id\"}, {\"source\": 5, \"edge\": 5, \"target\": 6, \"link_value\": \"102\", \"y\": -0.1161658697281041, \"x\": -0.5298397627416771, \"pair\": [5, 6], \"action\": \"Shares loyalty_id\", \"link_type\": \"loyalty_id\"}, {\"source\": 8, \"edge\": 6, \"target\": 9, \"link_value\": \"dylan@readmail.test\", \"y\": -0.47152034116315555, \"x\": -0.8787749403043559, \"pair\": [8, 9], \"action\": \"Shares email\", \"link_type\": \"email\"}, {\"source\": 8, \"edge\": 6, \"target\": 9, \"link_value\": \"dylan@readmail.test\", \"y\": -0.395687511848432, \"x\": -0.9176235380451344, \"pair\": [8, 9], \"action\": \"Shares email\", \"link_type\": \"email\"}, {\"source\": 10, \"edge\": 7, \"target\": 11, \"link_value\": \"ethan@readmail.test\", \"y\": 0.5657616551084466, \"x\": -0.8070266914629511, \"pair\": [10, 11], \"action\": \"Shares email\", \"link_type\": \"email\"}, {\"source\": 10, \"edge\": 7, \"target\": 11, \"link_value\": \"ethan@readmail.test\", \"y\": 0.6477280616848896, \"x\": -0.8269888294234814, \"pair\": [10, 11], \"action\": \"Shares email\", \"link_type\": \"email\"}, {\"source\": 12, \"edge\": 8, \"target\": 13, \"link_value\": \"fiona@readmail.test\", \"y\": -0.7322331110062817, \"x\": 0.388215109744164, \"pair\": [12, 13], \"action\": \"Shares email\", \"link_type\": \"email\"}, {\"source\": 12, \"edge\": 8, \"target\": 13, \"link_value\": \"fiona@readmail.test\", \"y\": -0.6471703421821648, \"x\": 0.34284404660927087, \"pair\": [12, 13], \"action\": \"Shares email\", \"link_type\": \"email\"}, {\"source\": 14, \"edge\": 9, \"target\": 18, \"link_value\": \"grant@readmail.test\", \"y\": 0.6239636545447104, \"x\": 0.2232479744258609, \"pair\": [14, 18], \"action\": \"Shares email\", \"link_type\": \"email\"}, {\"source\": 14, \"edge\": 9, \"target\": 18, \"link_value\": \"grant@readmail.test\", \"y\": 0.7002692369121074, \"x\": 0.16241373496471628, \"pair\": [14, 18], \"action\": \"Shares email\", \"link_type\": \"email\"}, {\"source\": 14, \"edge\": 10, \"target\": 17, \"link_value\": \"grant@readmail.test\", \"y\": 0.6239636545447104, \"x\": 0.2232479744258609, \"pair\": [14, 17], \"action\": \"Shares email\", \"link_type\": \"email\"}, {\"source\": 14, \"edge\": 10, \"target\": 17, \"link_value\": \"grant@readmail.test\", \"y\": 0.6401105543566112, \"x\": 0.16457243282740266, \"pair\": [14, 17], \"action\": \"Shares email\", \"link_type\": \"email\"}, {\"source\": 14, \"edge\": 11, \"target\": 16, \"link_value\": \"grant@readmail.test\", \"y\": 0.6239636545447104, \"x\": 0.2232479744258609, \"pair\": [14, 16], \"action\": \"Shares email\", \"link_type\": \"email\"}, {\"source\": 14, \"edge\": 11, \"target\": 16, \"link_value\": \"grant@readmail.test\", \"y\": 0.726352976713972, \"x\": 0.21981222341183945, \"pair\": [14, 16], \"action\": \"Shares email\", \"link_type\": \"email\"}, {\"source\": 14, \"edge\": 12, \"target\": 15, \"link_value\": \"grant@readmail.test\", \"y\": 0.6239636545447104, \"x\": 0.2232479744258609, \"pair\": [14, 15], \"action\": \"Shares email\", \"link_type\": \"email\"}, {\"source\": 14, \"edge\": 12, \"target\": 15, \"link_value\": \"grant@readmail.test\", \"y\": 0.6743414829852291, \"x\": 0.2558239148870901, \"pair\": [14, 15], \"action\": \"Shares email\", \"link_type\": \"email\"}, {\"source\": 15, \"edge\": 13, \"target\": 18, \"link_value\": \"grant@readmail.test\", \"y\": 0.6743414829852291, \"x\": 0.2558239148870901, \"pair\": [15, 18], \"action\": \"Shares email\", \"link_type\": \"email\"}, {\"source\": 15, \"edge\": 13, \"target\": 18, \"link_value\": \"grant@readmail.test\", \"y\": 0.7002692369121074, \"x\": 0.16241373496471628, \"pair\": [15, 18], \"action\": \"Shares email\", \"link_type\": \"email\"}, {\"source\": 15, \"edge\": 14, \"target\": 17, \"link_value\": \"grant@readmail.test\", \"y\": 0.6743414829852291, \"x\": 0.2558239148870901, \"pair\": [15, 17], \"action\": \"Shares email\", \"link_type\": \"email\"}, {\"source\": 15, \"edge\": 14, \"target\": 17, \"link_value\": \"grant@readmail.test\", \"y\": 0.6401105543566112, \"x\": 0.16457243282740266, \"pair\": [15, 17], \"action\": \"Shares email\", \"link_type\": \"email\"}, {\"source\": 15, \"edge\": 15, \"target\": 16, \"link_value\": \"grant@readmail.test\", \"y\": 0.6743414829852291, \"x\": 0.2558239148870901, \"pair\": [15, 16], \"action\": \"Shares email\", \"link_type\": \"email\"}, {\"source\": 15, \"edge\": 15, \"target\": 16, \"link_value\": \"grant@readmail.test\", \"y\": 0.726352976713972, \"x\": 0.21981222341183945, \"pair\": [15, 16], \"action\": \"Shares email\", \"link_type\": \"email\"}, {\"source\": 16, \"edge\": 16, \"target\": 18, \"link_value\": \"grant@readmail.test\", \"y\": 0.726352976713972, \"x\": 0.21981222341183945, \"pair\": [16, 18], \"action\": \"Shares email\", \"link_type\": \"email\"}, {\"source\": 16, \"edge\": 16, \"target\": 18, \"link_value\": \"grant@readmail.test\", \"y\": 0.7002692369121074, \"x\": 0.16241373496471628, \"pair\": [16, 18], \"action\": \"Shares email\", \"link_type\": \"email\"}, {\"source\": 16, \"edge\": 17, \"target\": 17, \"link_value\": \"grant@readmail.test\", \"y\": 0.726352976713972, \"x\": 0.21981222341183945, \"pair\": [16, 17], \"action\": \"Shares email\", \"link_type\": \"email\"}, {\"source\": 16, \"edge\": 17, \"target\": 17, \"link_value\": \"grant@readmail.test\", \"y\": 0.6401105543566112, \"x\": 0.16457243282740266, \"pair\": [16, 17], \"action\": \"Shares email\", \"link_type\": \"email\"}, {\"source\": 17, \"edge\": 18, \"target\": 18, \"link_value\": \"grant@readmail.test\", \"y\": 0.6401105543566112, \"x\": 0.16457243282740266, \"pair\": [17, 18], \"action\": \"Shares email\", \"link_type\": \"email\"}, {\"source\": 17, \"edge\": 18, \"target\": 18, \"link_value\": \"grant@readmail.test\", \"y\": 0.7002692369121074, \"x\": 0.16241373496471628, \"pair\": [17, 18], \"action\": \"Shares email\", \"link_type\": \"email\"}, {\"source\": 19, \"edge\": 19, \"target\": 20, \"link_value\": \"hanna@readmail.test\", \"y\": -0.9515972201656968, \"x\": -0.14942545121747755, \"pair\": [19, 20], \"action\": \"Shares email\", \"link_type\": \"email\"}, {\"source\": 19, \"edge\": 19, \"target\": 20, \"link_value\": \"hanna@readmail.test\", \"y\": -0.9158148869584268, \"x\": -0.22552252784741636, \"pair\": [19, 20], \"action\": \"Shares email\", \"link_type\": \"email\"}], \"data-9dadccca059b406072f171156dba0412\": [{\"loyalty_id\": 101.0, \"email\": \"alice@bulkmail.test\", \"y\": 0.10609971562983402, \"component\": \"1\", \"x\": 0.9022821054330333}, {\"loyalty_id\": 101.0, \"email\": \"alice@readmail.test\", \"y\": 0.16049718781273237, \"component\": \"1\", \"x\": 0.9800999864347193}, {\"loyalty_id\": 101.0, \"email\": \"alice@readmail.test\", \"y\": 0.08412026048403148, \"component\": \"1\", \"x\": 1.0}, {\"loyalty_id\": 102.0, \"email\": \"blake@readmail.test\", \"y\": -0.08918613075486126, \"component\": \"4\", \"x\": -0.6148190419288598}, {\"loyalty_id\": 102.0, \"email\": \"blake@readmail.test\", \"y\": -0.0354367147889304, \"component\": \"4\", \"x\": -0.5491030765232348}, {\"loyalty_id\": 102.0, \"email\": \"bloke@readmail.test\", \"y\": -0.1161658697281041, \"component\": \"4\", \"x\": -0.5298397627416771}, {\"loyalty_id\": 103.0, \"email\": \"clare@readmail.test\", \"y\": -0.5744326576365102, \"component\": \"7\", \"x\": 0.8598123307564923}, {\"loyalty_id\": 104.0, \"email\": \"dylan@readmail.test\", \"y\": -0.47152034116315555, \"component\": \"8\", \"x\": -0.8787749403043559}, {\"loyalty_id\": null, \"email\": \"dylan@readmail.test\", \"y\": -0.395687511848432, \"component\": \"8\", \"x\": -0.9176235380451344}, {\"loyalty_id\": 105.0, \"email\": \"ethan@readmail.test\", \"y\": 0.5657616551084466, \"component\": \"10\", \"x\": -0.8070266914629511}, {\"loyalty_id\": 112.0, \"email\": \"ethan@readmail.test\", \"y\": 0.6477280616848896, \"component\": \"10\", \"x\": -0.8269888294234814}, {\"loyalty_id\": 106.0, \"email\": \"fiona@readmail.test\", \"y\": -0.7322331110062817, \"component\": \"12\", \"x\": 0.388215109744164}, {\"loyalty_id\": 212.0, \"email\": \"fiona@readmail.test\", \"y\": -0.6471703421821648, \"component\": \"12\", \"x\": 0.34284404660927087}, {\"loyalty_id\": 107.0, \"email\": \"grant@readmail.test\", \"y\": 0.6239636545447104, \"component\": \"14\", \"x\": 0.2232479744258609}, {\"loyalty_id\": null, \"email\": \"grant@readmail.test\", \"y\": 0.6743414829852291, \"component\": \"14\", \"x\": 0.2558239148870901}, {\"loyalty_id\": 157.0, \"email\": \"grant@readmail.test\", \"y\": 0.726352976713972, \"component\": \"14\", \"x\": 0.21981222341183945}, {\"loyalty_id\": 257.0, \"email\": \"grant@readmail.test\", \"y\": 0.6401105543566112, \"component\": \"14\", \"x\": 0.16457243282740266}, {\"loyalty_id\": 357.0, \"email\": \"grant@readmail.test\", \"y\": 0.7002692369121074, \"component\": \"14\", \"x\": 0.16241373496471628}, {\"loyalty_id\": 108.0, \"email\": \"hanna@readmail.test\", \"y\": -0.9515972201656968, \"component\": \"19\", \"x\": -0.14942545121747755}, {\"loyalty_id\": null, \"email\": \"hanna@readmail.test\", \"y\": -0.9158148869584268, \"component\": \"19\", \"x\": -0.22552252784741636}]}}, {\"mode\": \"vega-lite\"});\n",
              "</script>"
            ],
            "text/plain": [
              "alt.LayerChart(...)"
            ]
          },
          "execution_count": 9,
          "metadata": {},
          "output_type": "execute_result"
        }
      ],
      "source": [
        "G = nx.Graph()\n",
        "\n",
        "node_data = (\n",
        "    cc.withColumn(\"component\", F.col(\"component\").astype(\"string\"))\n",
        "    .toPandas()\n",
        "    .set_index(\"id\")\n",
        "    .to_dict(\"index\")\n",
        ")\n",
        "\n",
        "for node_id, data in node_data.items():\n",
        "    G.add_node(node_id, **data)\n",
        "\n",
        "edge_data = (\n",
        "    edges.toPandas()\n",
        "    .drop_duplicates(subset=[\"src\", \"dst\"])\n",
        "    .set_index([\"src\", \"dst\"])\n",
        "    .to_dict(\"index\")\n",
        ")\n",
        "\n",
        "for edge_id, data in edge_data.items():\n",
        "    G.add_edge(edge_id[0], edge_id[1], **data)\n",
        "\n",
        "\n",
        "nxa.draw_networkx(\n",
        "    G=G,\n",
        "    pos=nx.spring_layout(G),\n",
        "    node_color=\"component\",\n",
        "    node_tooltip=[\"component\", \"email\", \"loyalty_id\"],\n",
        "    edge_tooltip=[\"action\"],\n",
        ").properties(\n",
        "    title=\"Identity Graph View\",\n",
        "    height=800,\n",
        "    width=1200,\n",
        ").interactive()"
      ]
    }
  ],
  "metadata": {
    "colab": {
      "name": "Data Science Identity Resolution",
      "provenance": []
    },
    "kernelspec": {
      "display_name": "Python 3",
      "name": "python3"
    },
    "language_info": {
      "name": "python"
    }
  },
  "nbformat": 4,
  "nbformat_minor": 0
}
