{
  "cells": [
    {
      "cell_type": "code",
      "execution_count": 1,
      "metadata": {
        "colab": {
          "base_uri": "https://localhost:8080/"
        },
        "id": "aTXIeohxqNe6",
        "outputId": "3363587a-b128-41d6-beca-e8767032c893"
      },
      "outputs": [
        {
          "name": "stdout",
          "output_type": "stream",
          "text": [
            "Looking in indexes: https://pypi.org/simple, https://us-python.pkg.dev/colab-wheels/public/simple/\n",
            "Collecting pyspark\n",
            "  Downloading pyspark-3.3.0.tar.gz (281.3 MB)\n",
            "\u001b[K     |████████████████████████████████| 281.3 MB 45 kB/s \n",
            "\u001b[?25hRequirement already satisfied: networkx in /usr/local/lib/python3.7/dist-packages (2.6.3)\n",
            "Collecting nx_altair\n",
            "  Downloading nx_altair-0.1.6-py3-none-any.whl (7.9 kB)\n",
            "Collecting py4j==0.10.9.5\n",
            "  Downloading py4j-0.10.9.5-py2.py3-none-any.whl (199 kB)\n",
            "\u001b[K     |████████████████████████████████| 199 kB 64.5 MB/s \n",
            "\u001b[?25hRequirement already satisfied: pandas in /usr/local/lib/python3.7/dist-packages (from nx_altair) (1.3.5)\n",
            "Requirement already satisfied: altair in /usr/local/lib/python3.7/dist-packages (from nx_altair) (4.2.0)\n",
            "Requirement already satisfied: jsonschema>=3.0 in /usr/local/lib/python3.7/dist-packages (from altair->nx_altair) (4.3.3)\n",
            "Requirement already satisfied: jinja2 in /usr/local/lib/python3.7/dist-packages (from altair->nx_altair) (2.11.3)\n",
            "Requirement already satisfied: toolz in /usr/local/lib/python3.7/dist-packages (from altair->nx_altair) (0.11.2)\n",
            "Requirement already satisfied: entrypoints in /usr/local/lib/python3.7/dist-packages (from altair->nx_altair) (0.4)\n",
            "Requirement already satisfied: numpy in /usr/local/lib/python3.7/dist-packages (from altair->nx_altair) (1.21.6)\n",
            "Requirement already satisfied: typing-extensions in /usr/local/lib/python3.7/dist-packages (from jsonschema>=3.0->altair->nx_altair) (4.1.1)\n",
            "Requirement already satisfied: attrs>=17.4.0 in /usr/local/lib/python3.7/dist-packages (from jsonschema>=3.0->altair->nx_altair) (21.4.0)\n",
            "Requirement already satisfied: pyrsistent!=0.17.0,!=0.17.1,!=0.17.2,>=0.14.0 in /usr/local/lib/python3.7/dist-packages (from jsonschema>=3.0->altair->nx_altair) (0.18.1)\n",
            "Requirement already satisfied: importlib-resources>=1.4.0 in /usr/local/lib/python3.7/dist-packages (from jsonschema>=3.0->altair->nx_altair) (5.7.1)\n",
            "Requirement already satisfied: importlib-metadata in /usr/local/lib/python3.7/dist-packages (from jsonschema>=3.0->altair->nx_altair) (4.11.4)\n",
            "Requirement already satisfied: zipp>=3.1.0 in /usr/local/lib/python3.7/dist-packages (from importlib-resources>=1.4.0->jsonschema>=3.0->altair->nx_altair) (3.8.0)\n",
            "Requirement already satisfied: pytz>=2017.3 in /usr/local/lib/python3.7/dist-packages (from pandas->nx_altair) (2022.1)\n",
            "Requirement already satisfied: python-dateutil>=2.7.3 in /usr/local/lib/python3.7/dist-packages (from pandas->nx_altair) (2.8.2)\n",
            "Requirement already satisfied: six>=1.5 in /usr/local/lib/python3.7/dist-packages (from python-dateutil>=2.7.3->pandas->nx_altair) (1.15.0)\n",
            "Requirement already satisfied: MarkupSafe>=0.23 in /usr/local/lib/python3.7/dist-packages (from jinja2->altair->nx_altair) (2.0.1)\n",
            "Building wheels for collected packages: pyspark\n",
            "  Building wheel for pyspark (setup.py) ... \u001b[?25l\u001b[?25hdone\n",
            "  Created wheel for pyspark: filename=pyspark-3.3.0-py2.py3-none-any.whl size=281764026 sha256=65438e292be392545cc14a306225cc86e8a2d047f4120779d68e2dd83eaeba26\n",
            "  Stored in directory: /root/.cache/pip/wheels/7a/8e/1b/f73a52650d2e5f337708d9f6a1750d451a7349a867f928b885\n",
            "Successfully built pyspark\n",
            "Installing collected packages: py4j, pyspark, nx-altair\n",
            "Successfully installed nx-altair-0.1.6 py4j-0.10.9.5 pyspark-3.3.0\n"
          ]
        }
      ],
      "source": [
        "# Install pyspark\n",
        "!pip install pyspark networkx nx_altair"
      ]
    },
    {
      "cell_type": "code",
      "execution_count": 2,
      "metadata": {
        "colab": {
          "base_uri": "https://localhost:8080/",
          "height": 216
        },
        "id": "NsJHl2WKqJIh",
        "outputId": "5581e507-f9d5-4c9f-fbc2-55e6660fea20"
      },
      "outputs": [
        {
          "data": {
            "text/html": [
              "\n",
              "            <div>\n",
              "                <p><b>SparkSession - in-memory</b></p>\n",
              "                \n",
              "        <div>\n",
              "            <p><b>SparkContext</b></p>\n",
              "\n",
              "            <p><a href=\"http://6aafd9422afc:4040\">Spark UI</a></p>\n",
              "\n",
              "            <dl>\n",
              "              <dt>Version</dt>\n",
              "                <dd><code>v3.3.0</code></dd>\n",
              "              <dt>Master</dt>\n",
              "                <dd><code>local[*]</code></dd>\n",
              "              <dt>AppName</dt>\n",
              "                <dd><code>Spark Session</code></dd>\n",
              "            </dl>\n",
              "        </div>\n",
              "        \n",
              "            </div>\n",
              "        "
            ],
            "text/plain": [
              "<pyspark.sql.session.SparkSession at 0x7f06f5097c10>"
            ]
          },
          "execution_count": 2,
          "metadata": {},
          "output_type": "execute_result"
        }
      ],
      "source": [
        "from functools import reduce\n",
        "\n",
        "import networkx as nx\n",
        "import nx_altair as nxa\n",
        "from pyspark.sql import DataFrame, Row, SparkSession\n",
        "from pyspark.sql import functions as F\n",
        "from pyspark.sql import types as T\n",
        "from pyspark.sql.window import Window\n",
        "\n",
        "# Create a Spark Session\n",
        "spark = (\n",
        "    SparkSession.builder.master(\"local[*]\").appName(\"Spark Session\")\n",
        "    .config(\"spark.sql.repl.eagerEval.enabled\", True)\n",
        "    .config(\"spark.jars.packages\", \"graphframes:graphframes:0.8.2-spark3.2-s_2.12\")\n",
        "    .getOrCreate()\n",
        ")\n",
        "\n",
        "from graphframes import GraphFrame\n",
        "\n",
        "# Check Spark Session Information\n",
        "spark"
      ]
    },
    {
      "cell_type": "code",
      "execution_count": 3,
      "metadata": {
        "colab": {
          "base_uri": "https://localhost:8080/",
          "height": 504
        },
        "id": "IbkrR16uqPQM",
        "outputId": "5f0702a6-d6a5-4ba9-f932-5a48008abda8"
      },
      "outputs": [
        {
          "data": {
            "text/html": [
              "<table border='1'>\n",
              "<tr><th>email</th><th>loyalty_id</th></tr>\n",
              "<tr><td>alice@readmail.test</td><td>101</td></tr>\n",
              "<tr><td>blake@readmail.test</td><td>102</td></tr>\n",
              "<tr><td>clare@readmail.test</td><td>103</td></tr>\n",
              "<tr><td>dylan@readmail.test</td><td>104</td></tr>\n",
              "<tr><td>ethan@readmail.test</td><td>105</td></tr>\n",
              "<tr><td>fiona@readmail.test</td><td>106</td></tr>\n",
              "<tr><td>grant@readmail.test</td><td>107</td></tr>\n",
              "<tr><td>hanna@readmail.test</td><td>108</td></tr>\n",
              "<tr><td>alice@readmail.test</td><td>101</td></tr>\n",
              "<tr><td>blake@readmail.test</td><td>102</td></tr>\n",
              "<tr><td>ethan@readmail.test</td><td>112</td></tr>\n",
              "<tr><td>fiona@readmail.test</td><td>212</td></tr>\n",
              "<tr><td>grant@readmail.test</td><td>null</td></tr>\n",
              "<tr><td>hanna@readmail.test</td><td>null</td></tr>\n",
              "<tr><td>alice@bulkmail.test</td><td>101</td></tr>\n",
              "<tr><td>bloke@readmail.test</td><td>102</td></tr>\n",
              "<tr><td>dylan@readmail.test</td><td>null</td></tr>\n",
              "<tr><td>grant@readmail.test</td><td>157</td></tr>\n",
              "<tr><td>grant@readmail.test</td><td>257</td></tr>\n",
              "<tr><td>grant@readmail.test</td><td>357</td></tr>\n",
              "</table>\n"
            ],
            "text/plain": [
              "+-------------------+----------+\n",
              "|              email|loyalty_id|\n",
              "+-------------------+----------+\n",
              "|alice@readmail.test|       101|\n",
              "|blake@readmail.test|       102|\n",
              "|clare@readmail.test|       103|\n",
              "|dylan@readmail.test|       104|\n",
              "|ethan@readmail.test|       105|\n",
              "|fiona@readmail.test|       106|\n",
              "|grant@readmail.test|       107|\n",
              "|hanna@readmail.test|       108|\n",
              "|alice@readmail.test|       101|\n",
              "|blake@readmail.test|       102|\n",
              "|ethan@readmail.test|       112|\n",
              "|fiona@readmail.test|       212|\n",
              "|grant@readmail.test|      null|\n",
              "|hanna@readmail.test|      null|\n",
              "|alice@bulkmail.test|       101|\n",
              "|bloke@readmail.test|       102|\n",
              "|dylan@readmail.test|      null|\n",
              "|grant@readmail.test|       157|\n",
              "|grant@readmail.test|       257|\n",
              "|grant@readmail.test|       357|\n",
              "+-------------------+----------+"
            ]
          },
          "execution_count": 3,
          "metadata": {},
          "output_type": "execute_result"
        }
      ],
      "source": [
        "\n",
        "loyalty_records = spark.createDataFrame(\n",
        "    [\n",
        "        Row(email=\"alice@readmail.test\", loyalty_id=101),\n",
        "        Row(email=\"blake@readmail.test\", loyalty_id=102),\n",
        "        Row(email=\"clare@readmail.test\", loyalty_id=103),\n",
        "        Row(email=\"dylan@readmail.test\", loyalty_id=104),\n",
        "        Row(email=\"ethan@readmail.test\", loyalty_id=105),\n",
        "        Row(email=\"fiona@readmail.test\", loyalty_id=106),\n",
        "        Row(email=\"grant@readmail.test\", loyalty_id=107),\n",
        "        Row(email=\"hanna@readmail.test\", loyalty_id=108),\n",
        "    ],\n",
        ")\n",
        "\n",
        "ecommerce_records = spark.createDataFrame(\n",
        "    [\n",
        "        Row(email=\"alice@readmail.test\", loyalty_id=101),\n",
        "        Row(email=\"blake@readmail.test\", loyalty_id=102),\n",
        "        # Same email address, different loyalty_id\n",
        "        Row(email=\"ethan@readmail.test\", loyalty_id=112),\n",
        "        # Same email address, different loyalty_id\n",
        "        Row(email=\"fiona@readmail.test\", loyalty_id=212),\n",
        "        Row(email=\"grant@readmail.test\", loyalty_id=None),\n",
        "        Row(email=\"hanna@readmail.test\", loyalty_id=None),\n",
        "    ],\n",
        ")\n",
        "\n",
        "subscriber_records = spark.createDataFrame(\n",
        "    [\n",
        "        # Differfent email domain, same loyalty_id\n",
        "        Row(email=\"alice@bulkmail.test\", loyalty_id=101),\n",
        "        # Misspelled email username, same loyalty_id\n",
        "        Row(email=\"bloke@readmail.test\", loyalty_id=102),\n",
        "        Row(email=\"dylan@readmail.test\", loyalty_id=None),\n",
        "        # Many loyalty_ids by the same email address\n",
        "        Row(email=\"grant@readmail.test\", loyalty_id=157),\n",
        "        Row(email=\"grant@readmail.test\", loyalty_id=257),\n",
        "        Row(email=\"grant@readmail.test\", loyalty_id=357),\n",
        "    ],\n",
        ")\n",
        "\n",
        "\n",
        "customers = loyalty_records.union(ecommerce_records).union(subscriber_records)\n",
        "\n",
        "customers"
      ]
    },
    {
      "cell_type": "code",
      "execution_count": 4,
      "metadata": {
        "colab": {
          "base_uri": "https://localhost:8080/",
          "height": 504
        },
        "id": "0S0mzDiGtOtC",
        "outputId": "113e1d70-cf87-4ec8-8ec1-4aed30359454"
      },
      "outputs": [
        {
          "data": {
            "text/html": [
              "<table border='1'>\n",
              "<tr><th>email</th><th>loyalty_id</th><th>id</th></tr>\n",
              "<tr><td>alice@bulkmail.test</td><td>101</td><td>1</td></tr>\n",
              "<tr><td>alice@readmail.test</td><td>101</td><td>2</td></tr>\n",
              "<tr><td>alice@readmail.test</td><td>101</td><td>3</td></tr>\n",
              "<tr><td>blake@readmail.test</td><td>102</td><td>4</td></tr>\n",
              "<tr><td>blake@readmail.test</td><td>102</td><td>5</td></tr>\n",
              "<tr><td>bloke@readmail.test</td><td>102</td><td>6</td></tr>\n",
              "<tr><td>clare@readmail.test</td><td>103</td><td>7</td></tr>\n",
              "<tr><td>dylan@readmail.test</td><td>104</td><td>8</td></tr>\n",
              "<tr><td>dylan@readmail.test</td><td>null</td><td>9</td></tr>\n",
              "<tr><td>ethan@readmail.test</td><td>105</td><td>10</td></tr>\n",
              "<tr><td>ethan@readmail.test</td><td>112</td><td>11</td></tr>\n",
              "<tr><td>fiona@readmail.test</td><td>106</td><td>12</td></tr>\n",
              "<tr><td>fiona@readmail.test</td><td>212</td><td>13</td></tr>\n",
              "<tr><td>grant@readmail.test</td><td>107</td><td>14</td></tr>\n",
              "<tr><td>grant@readmail.test</td><td>null</td><td>15</td></tr>\n",
              "<tr><td>grant@readmail.test</td><td>157</td><td>16</td></tr>\n",
              "<tr><td>grant@readmail.test</td><td>257</td><td>17</td></tr>\n",
              "<tr><td>grant@readmail.test</td><td>357</td><td>18</td></tr>\n",
              "<tr><td>hanna@readmail.test</td><td>108</td><td>19</td></tr>\n",
              "<tr><td>hanna@readmail.test</td><td>null</td><td>20</td></tr>\n",
              "</table>\n"
            ],
            "text/plain": [
              "+-------------------+----------+---+\n",
              "|              email|loyalty_id| id|\n",
              "+-------------------+----------+---+\n",
              "|alice@bulkmail.test|       101|  1|\n",
              "|alice@readmail.test|       101|  2|\n",
              "|alice@readmail.test|       101|  3|\n",
              "|blake@readmail.test|       102|  4|\n",
              "|blake@readmail.test|       102|  5|\n",
              "|bloke@readmail.test|       102|  6|\n",
              "|clare@readmail.test|       103|  7|\n",
              "|dylan@readmail.test|       104|  8|\n",
              "|dylan@readmail.test|      null|  9|\n",
              "|ethan@readmail.test|       105| 10|\n",
              "|ethan@readmail.test|       112| 11|\n",
              "|fiona@readmail.test|       106| 12|\n",
              "|fiona@readmail.test|       212| 13|\n",
              "|grant@readmail.test|       107| 14|\n",
              "|grant@readmail.test|      null| 15|\n",
              "|grant@readmail.test|       157| 16|\n",
              "|grant@readmail.test|       257| 17|\n",
              "|grant@readmail.test|       357| 18|\n",
              "|hanna@readmail.test|       108| 19|\n",
              "|hanna@readmail.test|      null| 20|\n",
              "+-------------------+----------+---+"
            ]
          },
          "execution_count": 4,
          "metadata": {},
          "output_type": "execute_result"
        }
      ],
      "source": [
        "# Vertics DataFrame\n",
        "vertices = customers.withColumn(\n",
        "    \"id\", F.row_number().over(Window.partitionBy(F.lit(1)).orderBy(F.asc(\"email\")))\n",
        ")\n",
        "\n",
        "vertices\n"
      ]
    },
    {
      "cell_type": "code",
      "execution_count": 5,
      "metadata": {
        "colab": {
          "base_uri": "https://localhost:8080/",
          "height": 521
        },
        "id": "YOr5dTwSteSj",
        "outputId": "e10d2bbb-ed3d-4f71-9b9a-4b7f5e5742ad"
      },
      "outputs": [
        {
          "data": {
            "text/html": [
              "<table border='1'>\n",
              "<tr><th>id</th><th>link_value</th><th>link_type</th><th>action</th></tr>\n",
              "<tr><td>1</td><td>alice@bulkmail.test</td><td>email</td><td>Linked by email</td></tr>\n",
              "<tr><td>2</td><td>alice@readmail.test</td><td>email</td><td>Linked by email</td></tr>\n",
              "<tr><td>3</td><td>alice@readmail.test</td><td>email</td><td>Linked by email</td></tr>\n",
              "<tr><td>4</td><td>blake@readmail.test</td><td>email</td><td>Linked by email</td></tr>\n",
              "<tr><td>5</td><td>blake@readmail.test</td><td>email</td><td>Linked by email</td></tr>\n",
              "<tr><td>6</td><td>bloke@readmail.test</td><td>email</td><td>Linked by email</td></tr>\n",
              "<tr><td>7</td><td>clare@readmail.test</td><td>email</td><td>Linked by email</td></tr>\n",
              "<tr><td>8</td><td>dylan@readmail.test</td><td>email</td><td>Linked by email</td></tr>\n",
              "<tr><td>9</td><td>dylan@readmail.test</td><td>email</td><td>Linked by email</td></tr>\n",
              "<tr><td>10</td><td>ethan@readmail.test</td><td>email</td><td>Linked by email</td></tr>\n",
              "<tr><td>11</td><td>ethan@readmail.test</td><td>email</td><td>Linked by email</td></tr>\n",
              "<tr><td>12</td><td>fiona@readmail.test</td><td>email</td><td>Linked by email</td></tr>\n",
              "<tr><td>13</td><td>fiona@readmail.test</td><td>email</td><td>Linked by email</td></tr>\n",
              "<tr><td>14</td><td>grant@readmail.test</td><td>email</td><td>Linked by email</td></tr>\n",
              "<tr><td>15</td><td>grant@readmail.test</td><td>email</td><td>Linked by email</td></tr>\n",
              "<tr><td>16</td><td>grant@readmail.test</td><td>email</td><td>Linked by email</td></tr>\n",
              "<tr><td>17</td><td>grant@readmail.test</td><td>email</td><td>Linked by email</td></tr>\n",
              "<tr><td>18</td><td>grant@readmail.test</td><td>email</td><td>Linked by email</td></tr>\n",
              "<tr><td>19</td><td>hanna@readmail.test</td><td>email</td><td>Linked by email</td></tr>\n",
              "<tr><td>20</td><td>hanna@readmail.test</td><td>email</td><td>Linked by email</td></tr>\n",
              "</table>\n",
              "only showing top 20 rows\n"
            ],
            "text/plain": [
              "+---+-------------------+---------+---------------+\n",
              "| id|         link_value|link_type|         action|\n",
              "+---+-------------------+---------+---------------+\n",
              "|  1|alice@bulkmail.test|    email|Linked by email|\n",
              "|  2|alice@readmail.test|    email|Linked by email|\n",
              "|  3|alice@readmail.test|    email|Linked by email|\n",
              "|  4|blake@readmail.test|    email|Linked by email|\n",
              "|  5|blake@readmail.test|    email|Linked by email|\n",
              "|  6|bloke@readmail.test|    email|Linked by email|\n",
              "|  7|clare@readmail.test|    email|Linked by email|\n",
              "|  8|dylan@readmail.test|    email|Linked by email|\n",
              "|  9|dylan@readmail.test|    email|Linked by email|\n",
              "| 10|ethan@readmail.test|    email|Linked by email|\n",
              "| 11|ethan@readmail.test|    email|Linked by email|\n",
              "| 12|fiona@readmail.test|    email|Linked by email|\n",
              "| 13|fiona@readmail.test|    email|Linked by email|\n",
              "| 14|grant@readmail.test|    email|Linked by email|\n",
              "| 15|grant@readmail.test|    email|Linked by email|\n",
              "| 16|grant@readmail.test|    email|Linked by email|\n",
              "| 17|grant@readmail.test|    email|Linked by email|\n",
              "| 18|grant@readmail.test|    email|Linked by email|\n",
              "| 19|hanna@readmail.test|    email|Linked by email|\n",
              "| 20|hanna@readmail.test|    email|Linked by email|\n",
              "+---+-------------------+---------+---------------+\n",
              "only showing top 20 rows"
            ]
          },
          "execution_count": 5,
          "metadata": {},
          "output_type": "execute_result"
        }
      ],
      "source": [
        "IDENTIFIER_FIELDS = [\"email\", \"loyalty_id\"]\n",
        "\n",
        "identifier_frames = (\n",
        "    vertices.select(\n",
        "        \"id\",\n",
        "        F.col(idef).alias(\"link_value\"),\n",
        "        F.lit(idef).alias(\"link_type\"),\n",
        "        F.lit(\"Shares \" + idef).alias(\"action\"),\n",
        "    )\n",
        "    for idef in IDENTIFIER_FIELDS\n",
        ")\n",
        "\n",
        "identifiers = reduce(DataFrame.unionAll, identifier_frames).where(\n",
        "    F.col(\"link_value\").isNotNull()\n",
        ")\n",
        "\n",
        "identifiers"
      ]
    },
    {
      "cell_type": "code",
      "execution_count": 6,
      "metadata": {
        "colab": {
          "base_uri": "https://localhost:8080/",
          "height": 521
        },
        "id": "WfkuPsVQtgNF",
        "outputId": "7800580c-d532-45b4-d544-f8d1a5db189b"
      },
      "outputs": [
        {
          "data": {
            "text/html": [
              "<table border='1'>\n",
              "<tr><th>_id</th><th>_link_value</th><th>_link_type</th><th>_action</th></tr>\n",
              "<tr><td>1</td><td>alice@bulkmail.test</td><td>email</td><td>Linked by email</td></tr>\n",
              "<tr><td>2</td><td>alice@readmail.test</td><td>email</td><td>Linked by email</td></tr>\n",
              "<tr><td>3</td><td>alice@readmail.test</td><td>email</td><td>Linked by email</td></tr>\n",
              "<tr><td>4</td><td>blake@readmail.test</td><td>email</td><td>Linked by email</td></tr>\n",
              "<tr><td>5</td><td>blake@readmail.test</td><td>email</td><td>Linked by email</td></tr>\n",
              "<tr><td>6</td><td>bloke@readmail.test</td><td>email</td><td>Linked by email</td></tr>\n",
              "<tr><td>7</td><td>clare@readmail.test</td><td>email</td><td>Linked by email</td></tr>\n",
              "<tr><td>8</td><td>dylan@readmail.test</td><td>email</td><td>Linked by email</td></tr>\n",
              "<tr><td>9</td><td>dylan@readmail.test</td><td>email</td><td>Linked by email</td></tr>\n",
              "<tr><td>10</td><td>ethan@readmail.test</td><td>email</td><td>Linked by email</td></tr>\n",
              "<tr><td>11</td><td>ethan@readmail.test</td><td>email</td><td>Linked by email</td></tr>\n",
              "<tr><td>12</td><td>fiona@readmail.test</td><td>email</td><td>Linked by email</td></tr>\n",
              "<tr><td>13</td><td>fiona@readmail.test</td><td>email</td><td>Linked by email</td></tr>\n",
              "<tr><td>14</td><td>grant@readmail.test</td><td>email</td><td>Linked by email</td></tr>\n",
              "<tr><td>15</td><td>grant@readmail.test</td><td>email</td><td>Linked by email</td></tr>\n",
              "<tr><td>16</td><td>grant@readmail.test</td><td>email</td><td>Linked by email</td></tr>\n",
              "<tr><td>17</td><td>grant@readmail.test</td><td>email</td><td>Linked by email</td></tr>\n",
              "<tr><td>18</td><td>grant@readmail.test</td><td>email</td><td>Linked by email</td></tr>\n",
              "<tr><td>19</td><td>hanna@readmail.test</td><td>email</td><td>Linked by email</td></tr>\n",
              "<tr><td>20</td><td>hanna@readmail.test</td><td>email</td><td>Linked by email</td></tr>\n",
              "</table>\n",
              "only showing top 20 rows\n"
            ],
            "text/plain": [
              "+---+-------------------+----------+---------------+\n",
              "|_id|        _link_value|_link_type|        _action|\n",
              "+---+-------------------+----------+---------------+\n",
              "|  1|alice@bulkmail.test|     email|Linked by email|\n",
              "|  2|alice@readmail.test|     email|Linked by email|\n",
              "|  3|alice@readmail.test|     email|Linked by email|\n",
              "|  4|blake@readmail.test|     email|Linked by email|\n",
              "|  5|blake@readmail.test|     email|Linked by email|\n",
              "|  6|bloke@readmail.test|     email|Linked by email|\n",
              "|  7|clare@readmail.test|     email|Linked by email|\n",
              "|  8|dylan@readmail.test|     email|Linked by email|\n",
              "|  9|dylan@readmail.test|     email|Linked by email|\n",
              "| 10|ethan@readmail.test|     email|Linked by email|\n",
              "| 11|ethan@readmail.test|     email|Linked by email|\n",
              "| 12|fiona@readmail.test|     email|Linked by email|\n",
              "| 13|fiona@readmail.test|     email|Linked by email|\n",
              "| 14|grant@readmail.test|     email|Linked by email|\n",
              "| 15|grant@readmail.test|     email|Linked by email|\n",
              "| 16|grant@readmail.test|     email|Linked by email|\n",
              "| 17|grant@readmail.test|     email|Linked by email|\n",
              "| 18|grant@readmail.test|     email|Linked by email|\n",
              "| 19|hanna@readmail.test|     email|Linked by email|\n",
              "| 20|hanna@readmail.test|     email|Linked by email|\n",
              "+---+-------------------+----------+---------------+\n",
              "only showing top 20 rows"
            ]
          },
          "execution_count": 6,
          "metadata": {},
          "output_type": "execute_result"
        }
      ],
      "source": [
        "mirror = identifiers.toDF(*(\"_\" + col for col in identifiers.columns))\n",
        "\n",
        "mirror"
      ]
    },
    {
      "cell_type": "code",
      "execution_count": 7,
      "metadata": {
        "colab": {
          "base_uri": "https://localhost:8080/",
          "height": 521
        },
        "id": "VeThFjKRtiFL",
        "outputId": "9c00dece-1b14-4650-9ba0-4fca3454e4f0"
      },
      "outputs": [
        {
          "data": {
            "text/html": [
              "<table border='1'>\n",
              "<tr><th>src</th><th>dst</th><th>link_value</th><th>link_type</th><th>action</th></tr>\n",
              "<tr><td>2</td><td>3</td><td>alice@readmail.test</td><td>email</td><td>Linked by email</td></tr>\n",
              "<tr><td>4</td><td>5</td><td>blake@readmail.test</td><td>email</td><td>Linked by email</td></tr>\n",
              "<tr><td>8</td><td>9</td><td>dylan@readmail.test</td><td>email</td><td>Linked by email</td></tr>\n",
              "<tr><td>10</td><td>11</td><td>ethan@readmail.test</td><td>email</td><td>Linked by email</td></tr>\n",
              "<tr><td>12</td><td>13</td><td>fiona@readmail.test</td><td>email</td><td>Linked by email</td></tr>\n",
              "<tr><td>14</td><td>18</td><td>grant@readmail.test</td><td>email</td><td>Linked by email</td></tr>\n",
              "<tr><td>14</td><td>17</td><td>grant@readmail.test</td><td>email</td><td>Linked by email</td></tr>\n",
              "<tr><td>14</td><td>16</td><td>grant@readmail.test</td><td>email</td><td>Linked by email</td></tr>\n",
              "<tr><td>14</td><td>15</td><td>grant@readmail.test</td><td>email</td><td>Linked by email</td></tr>\n",
              "<tr><td>15</td><td>18</td><td>grant@readmail.test</td><td>email</td><td>Linked by email</td></tr>\n",
              "<tr><td>15</td><td>17</td><td>grant@readmail.test</td><td>email</td><td>Linked by email</td></tr>\n",
              "<tr><td>15</td><td>16</td><td>grant@readmail.test</td><td>email</td><td>Linked by email</td></tr>\n",
              "<tr><td>16</td><td>18</td><td>grant@readmail.test</td><td>email</td><td>Linked by email</td></tr>\n",
              "<tr><td>16</td><td>17</td><td>grant@readmail.test</td><td>email</td><td>Linked by email</td></tr>\n",
              "<tr><td>17</td><td>18</td><td>grant@readmail.test</td><td>email</td><td>Linked by email</td></tr>\n",
              "<tr><td>19</td><td>20</td><td>hanna@readmail.test</td><td>email</td><td>Linked by email</td></tr>\n",
              "<tr><td>1</td><td>3</td><td>101</td><td>loyalty_id</td><td>Linked by loyalty_id</td></tr>\n",
              "<tr><td>1</td><td>2</td><td>101</td><td>loyalty_id</td><td>Linked by loyalty_id</td></tr>\n",
              "<tr><td>2</td><td>3</td><td>101</td><td>loyalty_id</td><td>Linked by loyalty_id</td></tr>\n",
              "<tr><td>4</td><td>6</td><td>102</td><td>loyalty_id</td><td>Linked by loyalty_id</td></tr>\n",
              "</table>\n",
              "only showing top 20 rows\n"
            ],
            "text/plain": [
              "+---+---+-------------------+----------+--------------------+\n",
              "|src|dst|         link_value| link_type|              action|\n",
              "+---+---+-------------------+----------+--------------------+\n",
              "|  2|  3|alice@readmail.test|     email|     Linked by email|\n",
              "|  4|  5|blake@readmail.test|     email|     Linked by email|\n",
              "|  8|  9|dylan@readmail.test|     email|     Linked by email|\n",
              "| 10| 11|ethan@readmail.test|     email|     Linked by email|\n",
              "| 12| 13|fiona@readmail.test|     email|     Linked by email|\n",
              "| 14| 18|grant@readmail.test|     email|     Linked by email|\n",
              "| 14| 17|grant@readmail.test|     email|     Linked by email|\n",
              "| 14| 16|grant@readmail.test|     email|     Linked by email|\n",
              "| 14| 15|grant@readmail.test|     email|     Linked by email|\n",
              "| 15| 18|grant@readmail.test|     email|     Linked by email|\n",
              "| 15| 17|grant@readmail.test|     email|     Linked by email|\n",
              "| 15| 16|grant@readmail.test|     email|     Linked by email|\n",
              "| 16| 18|grant@readmail.test|     email|     Linked by email|\n",
              "| 16| 17|grant@readmail.test|     email|     Linked by email|\n",
              "| 17| 18|grant@readmail.test|     email|     Linked by email|\n",
              "| 19| 20|hanna@readmail.test|     email|     Linked by email|\n",
              "|  1|  3|                101|loyalty_id|Linked by loyalty_id|\n",
              "|  1|  2|                101|loyalty_id|Linked by loyalty_id|\n",
              "|  2|  3|                101|loyalty_id|Linked by loyalty_id|\n",
              "|  4|  6|                102|loyalty_id|Linked by loyalty_id|\n",
              "+---+---+-------------------+----------+--------------------+\n",
              "only showing top 20 rows"
            ]
          },
          "execution_count": 7,
          "metadata": {},
          "output_type": "execute_result"
        }
      ],
      "source": [
        "join_conditions = [\n",
        "    (F.col(\"id\") < F.col(\"_id\")) & (F.col(\"link_value\") == F.col(\"_link_value\"))\n",
        "]\n",
        "\n",
        "edges = identifiers.join(mirror, join_conditions).select(\n",
        "    F.col(\"id\").alias(\"src\"),\n",
        "    F.col(\"_id\").alias(\"dst\"),\n",
        "    \"link_value\",\n",
        "    \"link_type\",\n",
        "    \"action\",\n",
        ")\n",
        "\n",
        "edges"
      ]
    },
    {
      "cell_type": "code",
      "execution_count": 8,
      "metadata": {
        "colab": {
          "base_uri": "https://localhost:8080/",
          "height": 592
        },
        "id": "AAv4lXKetjyn",
        "outputId": "2848b8cd-ea0b-48c0-a035-7d764bd653d3"
      },
      "outputs": [
        {
          "name": "stderr",
          "output_type": "stream",
          "text": [
            "/usr/local/lib/python3.7/dist-packages/pyspark/sql/dataframe.py:149: UserWarning: DataFrame.sql_ctx is an internal property, and will be removed in future releases. Use DataFrame.sparkSession instead.\n",
            "  \"DataFrame.sql_ctx is an internal property, and will be removed \"\n",
            "/usr/local/lib/python3.7/dist-packages/pyspark/sql/dataframe.py:127: UserWarning: DataFrame constructor is internal. Do not directly use it.\n",
            "  warnings.warn(\"DataFrame constructor is internal. Do not directly use it.\")\n"
          ]
        },
        {
          "data": {
            "text/html": [
              "<table border='1'>\n",
              "<tr><th>email</th><th>loyalty_id</th><th>id</th><th>component</th></tr>\n",
              "<tr><td>alice@bulkmail.test</td><td>101</td><td>1</td><td>1</td></tr>\n",
              "<tr><td>alice@readmail.test</td><td>101</td><td>2</td><td>1</td></tr>\n",
              "<tr><td>alice@readmail.test</td><td>101</td><td>3</td><td>1</td></tr>\n",
              "<tr><td>blake@readmail.test</td><td>102</td><td>4</td><td>4</td></tr>\n",
              "<tr><td>blake@readmail.test</td><td>102</td><td>5</td><td>4</td></tr>\n",
              "<tr><td>bloke@readmail.test</td><td>102</td><td>6</td><td>4</td></tr>\n",
              "<tr><td>clare@readmail.test</td><td>103</td><td>7</td><td>7</td></tr>\n",
              "<tr><td>dylan@readmail.test</td><td>104</td><td>8</td><td>8</td></tr>\n",
              "<tr><td>dylan@readmail.test</td><td>null</td><td>9</td><td>8</td></tr>\n",
              "<tr><td>ethan@readmail.test</td><td>105</td><td>10</td><td>10</td></tr>\n",
              "<tr><td>ethan@readmail.test</td><td>112</td><td>11</td><td>10</td></tr>\n",
              "<tr><td>fiona@readmail.test</td><td>106</td><td>12</td><td>12</td></tr>\n",
              "<tr><td>fiona@readmail.test</td><td>212</td><td>13</td><td>12</td></tr>\n",
              "<tr><td>grant@readmail.test</td><td>107</td><td>14</td><td>14</td></tr>\n",
              "<tr><td>grant@readmail.test</td><td>null</td><td>15</td><td>14</td></tr>\n",
              "<tr><td>grant@readmail.test</td><td>157</td><td>16</td><td>14</td></tr>\n",
              "<tr><td>grant@readmail.test</td><td>257</td><td>17</td><td>14</td></tr>\n",
              "<tr><td>grant@readmail.test</td><td>357</td><td>18</td><td>14</td></tr>\n",
              "<tr><td>hanna@readmail.test</td><td>108</td><td>19</td><td>19</td></tr>\n",
              "<tr><td>hanna@readmail.test</td><td>null</td><td>20</td><td>19</td></tr>\n",
              "</table>\n"
            ],
            "text/plain": [
              "+-------------------+----------+---+---------+\n",
              "|              email|loyalty_id| id|component|\n",
              "+-------------------+----------+---+---------+\n",
              "|alice@bulkmail.test|       101|  1|        1|\n",
              "|alice@readmail.test|       101|  2|        1|\n",
              "|alice@readmail.test|       101|  3|        1|\n",
              "|blake@readmail.test|       102|  4|        4|\n",
              "|blake@readmail.test|       102|  5|        4|\n",
              "|bloke@readmail.test|       102|  6|        4|\n",
              "|clare@readmail.test|       103|  7|        7|\n",
              "|dylan@readmail.test|       104|  8|        8|\n",
              "|dylan@readmail.test|      null|  9|        8|\n",
              "|ethan@readmail.test|       105| 10|       10|\n",
              "|ethan@readmail.test|       112| 11|       10|\n",
              "|fiona@readmail.test|       106| 12|       12|\n",
              "|fiona@readmail.test|       212| 13|       12|\n",
              "|grant@readmail.test|       107| 14|       14|\n",
              "|grant@readmail.test|      null| 15|       14|\n",
              "|grant@readmail.test|       157| 16|       14|\n",
              "|grant@readmail.test|       257| 17|       14|\n",
              "|grant@readmail.test|       357| 18|       14|\n",
              "|hanna@readmail.test|       108| 19|       19|\n",
              "|hanna@readmail.test|      null| 20|       19|\n",
              "+-------------------+----------+---+---------+"
            ]
          },
          "execution_count": 8,
          "metadata": {},
          "output_type": "execute_result"
        }
      ],
      "source": [
        "# create graph\n",
        "graph = GraphFrame(vertices, edges)\n",
        "\n",
        "# run connected components\n",
        "spark.sparkContext.setCheckpointDir(\"/tmp/checkpoints\")\n",
        "cc = graph.connectedComponents()\n",
        "\n",
        "cc"
      ]
    },
    {
      "cell_type": "code",
      "execution_count": 9,
      "metadata": {
        "colab": {
          "base_uri": "https://localhost:8080/",
          "height": 648
        },
        "id": "xEEnCIb5tlaX",
        "outputId": "fb84cd08-479e-44d7-8a70-07bff0786fc4"
      },
      "outputs": [
        {
          "data": {
            "text/html": [
              "\n",
              "<div id=\"altair-viz-99ebf1ae624a490c967cabd40b025fee\"></div>\n",
              "<script type=\"text/javascript\">\n",
              "  var VEGA_DEBUG = (typeof VEGA_DEBUG == \"undefined\") ? {} : VEGA_DEBUG;\n",
              "  (function(spec, embedOpt){\n",
              "    let outputDiv = document.currentScript.previousElementSibling;\n",
              "    if (outputDiv.id !== \"altair-viz-99ebf1ae624a490c967cabd40b025fee\") {\n",
              "      outputDiv = document.getElementById(\"altair-viz-99ebf1ae624a490c967cabd40b025fee\");\n",
              "    }\n",
              "    const paths = {\n",
              "      \"vega\": \"https://cdn.jsdelivr.net/npm//vega@5?noext\",\n",
              "      \"vega-lib\": \"https://cdn.jsdelivr.net/npm//vega-lib?noext\",\n",
              "      \"vega-lite\": \"https://cdn.jsdelivr.net/npm//vega-lite@4.17.0?noext\",\n",
              "      \"vega-embed\": \"https://cdn.jsdelivr.net/npm//vega-embed@6?noext\",\n",
              "    };\n",
              "\n",
              "    function maybeLoadScript(lib, version) {\n",
              "      var key = `${lib.replace(\"-\", \"\")}_version`;\n",
              "      return (VEGA_DEBUG[key] == version) ?\n",
              "        Promise.resolve(paths[lib]) :\n",
              "        new Promise(function(resolve, reject) {\n",
              "          var s = document.createElement('script');\n",
              "          document.getElementsByTagName(\"head\")[0].appendChild(s);\n",
              "          s.async = true;\n",
              "          s.onload = () => {\n",
              "            VEGA_DEBUG[key] = version;\n",
              "            return resolve(paths[lib]);\n",
              "          };\n",
              "          s.onerror = () => reject(`Error loading script: ${paths[lib]}`);\n",
              "          s.src = paths[lib];\n",
              "        });\n",
              "    }\n",
              "\n",
              "    function showError(err) {\n",
              "      outputDiv.innerHTML = `<div class=\"error\" style=\"color:red;\">${err}</div>`;\n",
              "      throw err;\n",
              "    }\n",
              "\n",
              "    function displayChart(vegaEmbed) {\n",
              "      vegaEmbed(outputDiv, spec, embedOpt)\n",
              "        .catch(err => showError(`Javascript Error: ${err.message}<br>This usually means there's a typo in your chart specification. See the javascript console for the full traceback.`));\n",
              "    }\n",
              "\n",
              "    if(typeof define === \"function\" && define.amd) {\n",
              "      requirejs.config({paths});\n",
              "      require([\"vega-embed\"], displayChart, err => showError(`Error loading script: ${err.message}`));\n",
              "    } else {\n",
              "      maybeLoadScript(\"vega\", \"5\")\n",
              "        .then(() => maybeLoadScript(\"vega-lite\", \"4.17.0\"))\n",
              "        .then(() => maybeLoadScript(\"vega-embed\", \"6\"))\n",
              "        .catch(showError)\n",
              "        .then(() => displayChart(vegaEmbed));\n",
              "    }\n",
              "  })({\"config\": {\"view\": {\"continuousWidth\": 400, \"continuousHeight\": 300}}, \"layer\": [{\"data\": {\"name\": \"data-8551f9b39314a4a052d328d46a7e3cae\"}, \"mark\": {\"type\": \"line\", \"color\": \"black\", \"opacity\": 1, \"strokeWidth\": 1}, \"encoding\": {\"detail\": {\"field\": \"edge\", \"type\": \"quantitative\"}, \"tooltip\": [{\"field\": \"action\", \"type\": \"nominal\"}], \"x\": {\"axis\": {\"grid\": false, \"labels\": false, \"ticks\": false, \"title\": \"\"}, \"field\": \"x\", \"type\": \"quantitative\"}, \"y\": {\"axis\": {\"grid\": false, \"labels\": false, \"ticks\": false, \"title\": \"\"}, \"field\": \"y\", \"type\": \"quantitative\"}}, \"selection\": {\"selector001\": {\"type\": \"interval\", \"bind\": \"scales\", \"encodings\": [\"x\", \"y\"]}}}, {\"data\": {\"name\": \"data-e30f17e5169af59b426c0b4a97b34359\"}, \"mark\": {\"type\": \"point\", \"opacity\": 1, \"size\": 300, \"strokeWidth\": 1.0}, \"encoding\": {\"fill\": {\"field\": \"component\", \"type\": \"nominal\"}, \"tooltip\": [{\"field\": \"component\", \"type\": \"nominal\"}, {\"field\": \"email\", \"type\": \"nominal\"}, {\"field\": \"loyalty_id\", \"type\": \"quantitative\"}], \"x\": {\"axis\": {\"grid\": false, \"labels\": false, \"ticks\": false}, \"field\": \"x\", \"type\": \"quantitative\"}, \"y\": {\"axis\": {\"grid\": false, \"labels\": false, \"ticks\": false}, \"field\": \"y\", \"type\": \"quantitative\"}}}], \"height\": 600, \"title\": \"Identity Graph View\", \"width\": 800, \"$schema\": \"https://vega.github.io/schema/vega-lite/v4.17.0.json\", \"datasets\": {\"data-8551f9b39314a4a052d328d46a7e3cae\": [{\"edge\": 0, \"y\": 0.6809432391493325, \"link_value\": \"101\", \"action\": \"Linked by loyalty_id\", \"pair\": [1, 3], \"source\": 1, \"target\": 3, \"x\": -0.5049920240648711, \"link_type\": \"loyalty_id\"}, {\"edge\": 0, \"y\": 0.6317804752056029, \"link_value\": \"101\", \"action\": \"Linked by loyalty_id\", \"pair\": [1, 3], \"source\": 1, \"target\": 3, \"x\": -0.4261166673004706, \"link_type\": \"loyalty_id\"}, {\"edge\": 1, \"y\": 0.6809432391493325, \"link_value\": \"101\", \"action\": \"Linked by loyalty_id\", \"pair\": [1, 2], \"source\": 1, \"target\": 2, \"x\": -0.5049920240648711, \"link_type\": \"loyalty_id\"}, {\"edge\": 1, \"y\": 0.7231925403707673, \"link_value\": \"101\", \"action\": \"Linked by loyalty_id\", \"pair\": [1, 2], \"source\": 1, \"target\": 2, \"x\": -0.44623366972506123, \"link_type\": \"loyalty_id\"}, {\"edge\": 2, \"y\": 0.7231925403707673, \"link_value\": \"alice@readmail.test\", \"action\": \"Linked by email\", \"pair\": [2, 3], \"source\": 2, \"target\": 3, \"x\": -0.44623366972506123, \"link_type\": \"email\"}, {\"edge\": 2, \"y\": 0.6317804752056029, \"link_value\": \"alice@readmail.test\", \"action\": \"Linked by email\", \"pair\": [2, 3], \"source\": 2, \"target\": 3, \"x\": -0.4261166673004706, \"link_type\": \"email\"}, {\"edge\": 3, \"y\": -0.8820750140900634, \"link_value\": \"blake@readmail.test\", \"action\": \"Linked by email\", \"pair\": [4, 5], \"source\": 4, \"target\": 5, \"x\": -0.0968732038318946, \"link_type\": \"email\"}, {\"edge\": 3, \"y\": -0.803462152369718, \"link_value\": \"blake@readmail.test\", \"action\": \"Linked by email\", \"pair\": [4, 5], \"source\": 4, \"target\": 5, \"x\": -0.0524228804759888, \"link_type\": \"email\"}, {\"edge\": 4, \"y\": -0.8820750140900634, \"link_value\": \"102\", \"action\": \"Linked by loyalty_id\", \"pair\": [4, 6], \"source\": 4, \"target\": 6, \"x\": -0.0968732038318946, \"link_type\": \"loyalty_id\"}, {\"edge\": 4, \"y\": -0.8868407321679603, \"link_value\": \"102\", \"action\": \"Linked by loyalty_id\", \"pair\": [4, 6], \"source\": 4, \"target\": 6, \"x\": -0.023373165568517318, \"link_type\": \"loyalty_id\"}, {\"edge\": 5, \"y\": -0.803462152369718, \"link_value\": \"102\", \"action\": \"Linked by loyalty_id\", \"pair\": [5, 6], \"source\": 5, \"target\": 6, \"x\": -0.0524228804759888, \"link_type\": \"loyalty_id\"}, {\"edge\": 5, \"y\": -0.8868407321679603, \"link_value\": \"102\", \"action\": \"Linked by loyalty_id\", \"pair\": [5, 6], \"source\": 5, \"target\": 6, \"x\": -0.023373165568517318, \"link_type\": \"loyalty_id\"}, {\"edge\": 6, \"y\": -0.6256679330944953, \"link_value\": \"dylan@readmail.test\", \"action\": \"Linked by email\", \"pair\": [8, 9], \"source\": 8, \"target\": 9, \"x\": 0.717456110439308, \"link_type\": \"email\"}, {\"edge\": 6, \"y\": -0.6826640720193909, \"link_value\": \"dylan@readmail.test\", \"action\": \"Linked by email\", \"pair\": [8, 9], \"source\": 8, \"target\": 9, \"x\": 0.777386088566696, \"link_type\": \"email\"}, {\"edge\": 7, \"y\": 0.23306426314576803, \"link_value\": \"ethan@readmail.test\", \"action\": \"Linked by email\", \"pair\": [10, 11], \"source\": 10, \"target\": 11, \"x\": 0.8636077065812056, \"link_type\": \"email\"}, {\"edge\": 7, \"y\": 0.25559866195581826, \"link_value\": \"ethan@readmail.test\", \"action\": \"Linked by email\", \"pair\": [10, 11], \"source\": 10, \"target\": 11, \"x\": 0.9495217032167226, \"link_type\": \"email\"}, {\"edge\": 8, \"y\": 0.7364769129258402, \"link_value\": \"fiona@readmail.test\", \"action\": \"Linked by email\", \"pair\": [12, 13], \"source\": 12, \"target\": 13, \"x\": 0.3559372050687908, \"link_type\": \"email\"}, {\"edge\": 8, \"y\": 0.7539553267028123, \"link_value\": \"fiona@readmail.test\", \"action\": \"Linked by email\", \"pair\": [12, 13], \"source\": 12, \"target\": 13, \"x\": 0.27951855001414455, \"link_type\": \"email\"}, {\"edge\": 9, \"y\": 0.04044824442808647, \"link_value\": \"grant@readmail.test\", \"action\": \"Linked by email\", \"pair\": [14, 18], \"source\": 14, \"target\": 18, \"x\": 0.09408975476301454, \"link_type\": \"email\"}, {\"edge\": 9, \"y\": 0.026473869960478263, \"link_value\": \"grant@readmail.test\", \"action\": \"Linked by email\", \"pair\": [14, 18], \"source\": 14, \"target\": 18, \"x\": 0.0029372627883416753, \"link_type\": \"email\"}, {\"edge\": 10, \"y\": 0.04044824442808647, \"link_value\": \"grant@readmail.test\", \"action\": \"Linked by email\", \"pair\": [14, 17], \"source\": 14, \"target\": 17, \"x\": 0.09408975476301454, \"link_type\": \"email\"}, {\"edge\": 10, \"y\": 0.08362549730979656, \"link_value\": \"grant@readmail.test\", \"action\": \"Linked by email\", \"pair\": [14, 17], \"source\": 14, \"target\": 17, \"x\": 0.01343238622730489, \"link_type\": \"email\"}, {\"edge\": 11, \"y\": 0.04044824442808647, \"link_value\": \"grant@readmail.test\", \"action\": \"Linked by email\", \"pair\": [14, 16], \"source\": 14, \"target\": 16, \"x\": 0.09408975476301454, \"link_type\": \"email\"}, {\"edge\": 11, \"y\": 0.0014944588412463692, \"link_value\": \"grant@readmail.test\", \"action\": \"Linked by email\", \"pair\": [14, 16], \"source\": 14, \"target\": 16, \"x\": 0.05362322478753446, \"link_type\": \"email\"}, {\"edge\": 12, \"y\": 0.04044824442808647, \"link_value\": \"grant@readmail.test\", \"action\": \"Linked by email\", \"pair\": [14, 15], \"source\": 14, \"target\": 15, \"x\": 0.09408975476301454, \"link_type\": \"email\"}, {\"edge\": 12, \"y\": 0.09093679853278333, \"link_value\": \"grant@readmail.test\", \"action\": \"Linked by email\", \"pair\": [14, 15], \"source\": 14, \"target\": 15, \"x\": 0.06941680416574879, \"link_type\": \"email\"}, {\"edge\": 13, \"y\": 0.09093679853278333, \"link_value\": \"grant@readmail.test\", \"action\": \"Linked by email\", \"pair\": [15, 18], \"source\": 15, \"target\": 18, \"x\": 0.06941680416574879, \"link_type\": \"email\"}, {\"edge\": 13, \"y\": 0.026473869960478263, \"link_value\": \"grant@readmail.test\", \"action\": \"Linked by email\", \"pair\": [15, 18], \"source\": 15, \"target\": 18, \"x\": 0.0029372627883416753, \"link_type\": \"email\"}, {\"edge\": 14, \"y\": 0.09093679853278333, \"link_value\": \"grant@readmail.test\", \"action\": \"Linked by email\", \"pair\": [15, 17], \"source\": 15, \"target\": 17, \"x\": 0.06941680416574879, \"link_type\": \"email\"}, {\"edge\": 14, \"y\": 0.08362549730979656, \"link_value\": \"grant@readmail.test\", \"action\": \"Linked by email\", \"pair\": [15, 17], \"source\": 15, \"target\": 17, \"x\": 0.01343238622730489, \"link_type\": \"email\"}, {\"edge\": 15, \"y\": 0.09093679853278333, \"link_value\": \"grant@readmail.test\", \"action\": \"Linked by email\", \"pair\": [15, 16], \"source\": 15, \"target\": 16, \"x\": 0.06941680416574879, \"link_type\": \"email\"}, {\"edge\": 15, \"y\": 0.0014944588412463692, \"link_value\": \"grant@readmail.test\", \"action\": \"Linked by email\", \"pair\": [15, 16], \"source\": 15, \"target\": 16, \"x\": 0.05362322478753446, \"link_type\": \"email\"}, {\"edge\": 16, \"y\": 0.0014944588412463692, \"link_value\": \"grant@readmail.test\", \"action\": \"Linked by email\", \"pair\": [16, 18], \"source\": 16, \"target\": 18, \"x\": 0.05362322478753446, \"link_type\": \"email\"}, {\"edge\": 16, \"y\": 0.026473869960478263, \"link_value\": \"grant@readmail.test\", \"action\": \"Linked by email\", \"pair\": [16, 18], \"source\": 16, \"target\": 18, \"x\": 0.0029372627883416753, \"link_type\": \"email\"}, {\"edge\": 17, \"y\": 0.0014944588412463692, \"link_value\": \"grant@readmail.test\", \"action\": \"Linked by email\", \"pair\": [16, 17], \"source\": 16, \"target\": 17, \"x\": 0.05362322478753446, \"link_type\": \"email\"}, {\"edge\": 17, \"y\": 0.08362549730979656, \"link_value\": \"grant@readmail.test\", \"action\": \"Linked by email\", \"pair\": [16, 17], \"source\": 16, \"target\": 17, \"x\": 0.01343238622730489, \"link_type\": \"email\"}, {\"edge\": 18, \"y\": 0.08362549730979656, \"link_value\": \"grant@readmail.test\", \"action\": \"Linked by email\", \"pair\": [17, 18], \"source\": 17, \"target\": 18, \"x\": 0.01343238622730489, \"link_type\": \"email\"}, {\"edge\": 18, \"y\": 0.026473869960478263, \"link_value\": \"grant@readmail.test\", \"action\": \"Linked by email\", \"pair\": [17, 18], \"source\": 17, \"target\": 18, \"x\": 0.0029372627883416753, \"link_type\": \"email\"}, {\"edge\": 19, \"y\": -0.28064143804459596, \"link_value\": \"hanna@readmail.test\", \"action\": \"Linked by email\", \"pair\": [19, 20], \"source\": 19, \"target\": 20, \"x\": -0.8559318950762147, \"link_type\": \"email\"}, {\"edge\": 19, \"y\": -0.23612311323967314, \"link_value\": \"hanna@readmail.test\", \"action\": \"Linked by email\", \"pair\": [19, 20], \"source\": 19, \"target\": 20, \"x\": -0.7709832905757933, \"link_type\": \"email\"}], \"data-e30f17e5169af59b426c0b4a97b34359\": [{\"email\": \"alice@bulkmail.test\", \"y\": 0.6809432391493325, \"component\": \"1\", \"loyalty_id\": 101.0, \"x\": -0.5049920240648711}, {\"email\": \"alice@readmail.test\", \"y\": 0.7231925403707673, \"component\": \"1\", \"loyalty_id\": 101.0, \"x\": -0.44623366972506123}, {\"email\": \"alice@readmail.test\", \"y\": 0.6317804752056029, \"component\": \"1\", \"loyalty_id\": 101.0, \"x\": -0.4261166673004706}, {\"email\": \"blake@readmail.test\", \"y\": -0.8820750140900634, \"component\": \"4\", \"loyalty_id\": 102.0, \"x\": -0.0968732038318946}, {\"email\": \"blake@readmail.test\", \"y\": -0.803462152369718, \"component\": \"4\", \"loyalty_id\": 102.0, \"x\": -0.0524228804759888}, {\"email\": \"bloke@readmail.test\", \"y\": -0.8868407321679603, \"component\": \"4\", \"loyalty_id\": 102.0, \"x\": -0.023373165568517318}, {\"email\": \"clare@readmail.test\", \"y\": 0.13948416649756398, \"component\": \"7\", \"loyalty_id\": 103.0, \"x\": -1.0}, {\"email\": \"dylan@readmail.test\", \"y\": -0.6256679330944953, \"component\": \"8\", \"loyalty_id\": 104.0, \"x\": 0.717456110439308}, {\"email\": \"dylan@readmail.test\", \"y\": -0.6826640720193909, \"component\": \"8\", \"loyalty_id\": null, \"x\": 0.777386088566696}, {\"email\": \"ethan@readmail.test\", \"y\": 0.23306426314576803, \"component\": \"10\", \"loyalty_id\": 105.0, \"x\": 0.8636077065812056}, {\"email\": \"ethan@readmail.test\", \"y\": 0.25559866195581826, \"component\": \"10\", \"loyalty_id\": 112.0, \"x\": 0.9495217032167226}, {\"email\": \"fiona@readmail.test\", \"y\": 0.7364769129258402, \"component\": \"12\", \"loyalty_id\": 106.0, \"x\": 0.3559372050687908}, {\"email\": \"fiona@readmail.test\", \"y\": 0.7539553267028123, \"component\": \"12\", \"loyalty_id\": 212.0, \"x\": 0.27951855001414455}, {\"email\": \"grant@readmail.test\", \"y\": 0.04044824442808647, \"component\": \"14\", \"loyalty_id\": 107.0, \"x\": 0.09408975476301454}, {\"email\": \"grant@readmail.test\", \"y\": 0.09093679853278333, \"component\": \"14\", \"loyalty_id\": null, \"x\": 0.06941680416574879}, {\"email\": \"grant@readmail.test\", \"y\": 0.0014944588412463692, \"component\": \"14\", \"loyalty_id\": 157.0, \"x\": 0.05362322478753446}, {\"email\": \"grant@readmail.test\", \"y\": 0.08362549730979656, \"component\": \"14\", \"loyalty_id\": 257.0, \"x\": 0.01343238622730489}, {\"email\": \"grant@readmail.test\", \"y\": 0.026473869960478263, \"component\": \"14\", \"loyalty_id\": 357.0, \"x\": 0.0029372627883416753}, {\"email\": \"hanna@readmail.test\", \"y\": -0.28064143804459596, \"component\": \"19\", \"loyalty_id\": 108.0, \"x\": -0.8559318950762147}, {\"email\": \"hanna@readmail.test\", \"y\": -0.23612311323967314, \"component\": \"19\", \"loyalty_id\": null, \"x\": -0.7709832905757933}]}}, {\"mode\": \"vega-lite\"});\n",
              "</script>"
            ],
            "text/plain": [
              "alt.LayerChart(...)"
            ]
          },
          "execution_count": 9,
          "metadata": {},
          "output_type": "execute_result"
        }
      ],
      "source": [
        "G = nx.Graph()\n",
        "\n",
        "node_data = (\n",
        "    cc.withColumn(\"component\", F.col(\"component\").astype(\"string\"))\n",
        "    .toPandas()\n",
        "    .set_index(\"id\")\n",
        "    .to_dict(\"index\")\n",
        ")\n",
        "\n",
        "for node_id, data in node_data.items():\n",
        "    G.add_node(node_id, **data)\n",
        "\n",
        "edge_data = (\n",
        "    edges.toPandas()\n",
        "    .drop_duplicates(subset=[\"src\", \"dst\"])\n",
        "    .set_index([\"src\", \"dst\"])\n",
        "    .to_dict(\"index\")\n",
        ")\n",
        "\n",
        "for edge_id, data in edge_data.items():\n",
        "    G.add_edge(edge_id[0], edge_id[1], **data)\n",
        "\n",
        "\n",
        "nxa.draw_networkx(\n",
        "    G=G,\n",
        "    pos=nx.spring_layout(G),\n",
        "    node_color=\"component\",\n",
        "    node_tooltip=[\"component\", \"email\", \"loyalty_id\"],\n",
        "    edge_tooltip=[\"action\"],\n",
        ").properties(\n",
        "    title=\"Identity Graph View\",\n",
        "    height=800,\n",
        "    width=1200,\n",
        ").interactive()"
      ]
    }
  ],
  "metadata": {
    "colab": {
      "name": "data_science_identity_resolution.ipynb",
      "provenance": []
    },
    "kernelspec": {
      "display_name": "Python 3",
      "name": "python3"
    },
    "language_info": {
      "name": "python"
    }
  },
  "nbformat": 4,
  "nbformat_minor": 0
}
